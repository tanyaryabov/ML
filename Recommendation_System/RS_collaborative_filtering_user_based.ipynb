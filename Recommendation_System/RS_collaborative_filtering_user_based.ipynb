{
  "nbformat": 4,
  "nbformat_minor": 0,
  "metadata": {
    "colab": {
      "name": "RS_collaborative_filtering_user_based.ipynb",
      "provenance": [],
      "authorship_tag": "ABX9TyOPU6TaLHdBURHpDlHVy110",
      "include_colab_link": true
    },
    "kernelspec": {
      "name": "python3",
      "display_name": "Python 3"
    }
  },
  "cells": [
    {
      "cell_type": "markdown",
      "metadata": {
        "id": "view-in-github",
        "colab_type": "text"
      },
      "source": [
        "<a href=\"https://colab.research.google.com/github/tanyaryabov/ML/blob/master/RS_collaborative_filtering_user_based.ipynb\" target=\"_parent\"><img src=\"https://colab.research.google.com/assets/colab-badge.svg\" alt=\"Open In Colab\"/></a>"
      ]
    },
    {
      "cell_type": "code",
      "metadata": {
        "colab": {
          "base_uri": "https://localhost:8080/"
        },
        "id": "eNAT7bM4zWOP",
        "outputId": "819fa32d-ab26-4332-b486-43c90d4e1bad"
      },
      "source": [
        "from google.colab import drive\r\n",
        "drive.mount('/content/drive')\r\n",
        "!ls /content/drive"
      ],
      "execution_count": 4,
      "outputs": [
        {
          "output_type": "stream",
          "text": [
            "Drive already mounted at /content/drive; to attempt to forcibly remount, call drive.mount(\"/content/drive\", force_remount=True).\n",
            "MyDrive  Shareddrives\n"
          ],
          "name": "stdout"
        }
      ]
    },
    {
      "cell_type": "code",
      "metadata": {
        "id": "fmGSiAEa0Pr_"
      },
      "source": [
        "import pandas as pd\r\n",
        "import matplotlib.pyplot as plt\r\n",
        "import seaborn as sns\r\n",
        "import numpy as np\r\n",
        "#Load Dataset\r\n",
        "movies = pd.read_csv('/content/drive/MyDrive/movies.csv')\r\n",
        "print(movies.shape)\r\n",
        "movies.head()"
      ],
      "execution_count": null,
      "outputs": []
    },
    {
      "cell_type": "code",
      "metadata": {
        "id": "mcY1KpW21iyw"
      },
      "source": [
        "#Remove the year from title and add onto a separate column\r\n",
        "movies['year'] = movies.title.str.extract('(\\(\\d\\d\\d\\d\\))',expand=False)\r\n",
        "#Removing the parentheses\r\n",
        "movies['year'] = movies.year.str.extract('(\\d\\d\\d\\d)',expand=False)\r\n",
        "#Removing the years from the 'title' column\r\n",
        "movies['title']=movies.title.str.replace('(\\(\\d\\d\\d\\d\\))','')\r\n",
        "#Applying the strip function to get rid of any ending whitespace characters that may have appeared\r\n",
        "movies['title']=movies.title.apply(lambda x:x.strip())\r\n",
        "#Dropping the genres column\r\n",
        "movies = movies.drop('genres', 1)\r\n",
        "movies.head()"
      ],
      "execution_count": null,
      "outputs": []
    },
    {
      "cell_type": "code",
      "metadata": {
        "id": "QdoUfPRJ0xr_"
      },
      "source": [
        "ratings= pd.read_csv('/content/drive/MyDrive/ratings.csv')\r\n",
        "#Drop timestamp column from a dataframe\r\n",
        "ratings = ratings.drop('timestamp', 1)\r\n",
        "ratings.head()"
      ],
      "execution_count": null,
      "outputs": []
    },
    {
      "cell_type": "code",
      "metadata": {
        "id": "SEjvNCDXpol4",
        "outputId": "e337ae2a-984e-4667-afad-013a8a419ccd",
        "colab": {
          "base_uri": "https://localhost:8080/",
          "height": 199
        }
      },
      "source": [
        "#input user to recommend movies to\r\n",
        "userInput = [\r\n",
        "            {'title':'Balto', 'rating':5},\r\n",
        "            {'title':'Toy Story', 'rating':5},\r\n",
        "            {'title':'Pocahontas', 'rating':4.5},\r\n",
        "            {'title':\"When Night Is Falling\", 'rating':4.5},\r\n",
        "            {'title':'Swan Princess, The', 'rating':4.5}\r\n",
        "         ] \r\n",
        "inputMovies = pd.DataFrame(userInput)\r\n",
        "inputMovies"
      ],
      "execution_count": 54,
      "outputs": [
        {
          "output_type": "execute_result",
          "data": {
            "text/html": [
              "<div>\n",
              "<style scoped>\n",
              "    .dataframe tbody tr th:only-of-type {\n",
              "        vertical-align: middle;\n",
              "    }\n",
              "\n",
              "    .dataframe tbody tr th {\n",
              "        vertical-align: top;\n",
              "    }\n",
              "\n",
              "    .dataframe thead th {\n",
              "        text-align: right;\n",
              "    }\n",
              "</style>\n",
              "<table border=\"1\" class=\"dataframe\">\n",
              "  <thead>\n",
              "    <tr style=\"text-align: right;\">\n",
              "      <th></th>\n",
              "      <th>title</th>\n",
              "      <th>rating</th>\n",
              "    </tr>\n",
              "  </thead>\n",
              "  <tbody>\n",
              "    <tr>\n",
              "      <th>0</th>\n",
              "      <td>Balto</td>\n",
              "      <td>5.0</td>\n",
              "    </tr>\n",
              "    <tr>\n",
              "      <th>1</th>\n",
              "      <td>Toy Story</td>\n",
              "      <td>5.0</td>\n",
              "    </tr>\n",
              "    <tr>\n",
              "      <th>2</th>\n",
              "      <td>Pocahontas</td>\n",
              "      <td>4.5</td>\n",
              "    </tr>\n",
              "    <tr>\n",
              "      <th>3</th>\n",
              "      <td>When Night Is Falling</td>\n",
              "      <td>4.5</td>\n",
              "    </tr>\n",
              "    <tr>\n",
              "      <th>4</th>\n",
              "      <td>Swan Princess, The</td>\n",
              "      <td>4.5</td>\n",
              "    </tr>\n",
              "  </tbody>\n",
              "</table>\n",
              "</div>"
            ],
            "text/plain": [
              "                   title  rating\n",
              "0                  Balto     5.0\n",
              "1              Toy Story     5.0\n",
              "2             Pocahontas     4.5\n",
              "3  When Night Is Falling     4.5\n",
              "4     Swan Princess, The     4.5"
            ]
          },
          "metadata": {
            "tags": []
          },
          "execution_count": 54
        }
      ]
    },
    {
      "cell_type": "code",
      "metadata": {
        "id": "f1VOQFZUp5DX",
        "outputId": "5a17d0f9-3113-4548-df62-2175f4dbc3b6",
        "colab": {
          "base_uri": "https://localhost:8080/",
          "height": 199
        }
      },
      "source": [
        "#add movieId to user input:\r\n",
        "#Filtering out the movies by title\r\n",
        "inputId = movies[movies['title'].isin(inputMovies['title'].tolist())]\r\n",
        "\r\n",
        "#Then merging it so we can get the movieId. It's implicitly merging it by title.\r\n",
        "inputMovies = pd.merge(inputId, inputMovies)\r\n",
        "\r\n",
        "#Dropping information we won't use from the input dataframe\r\n",
        "inputMovies = inputMovies.drop('year', 1)\r\n",
        "\r\n",
        "inputMovies"
      ],
      "execution_count": 55,
      "outputs": [
        {
          "output_type": "execute_result",
          "data": {
            "text/html": [
              "<div>\n",
              "<style scoped>\n",
              "    .dataframe tbody tr th:only-of-type {\n",
              "        vertical-align: middle;\n",
              "    }\n",
              "\n",
              "    .dataframe tbody tr th {\n",
              "        vertical-align: top;\n",
              "    }\n",
              "\n",
              "    .dataframe thead th {\n",
              "        text-align: right;\n",
              "    }\n",
              "</style>\n",
              "<table border=\"1\" class=\"dataframe\">\n",
              "  <thead>\n",
              "    <tr style=\"text-align: right;\">\n",
              "      <th></th>\n",
              "      <th>movieId</th>\n",
              "      <th>title</th>\n",
              "      <th>rating</th>\n",
              "    </tr>\n",
              "  </thead>\n",
              "  <tbody>\n",
              "    <tr>\n",
              "      <th>0</th>\n",
              "      <td>1</td>\n",
              "      <td>Toy Story</td>\n",
              "      <td>5.0</td>\n",
              "    </tr>\n",
              "    <tr>\n",
              "      <th>1</th>\n",
              "      <td>13</td>\n",
              "      <td>Balto</td>\n",
              "      <td>5.0</td>\n",
              "    </tr>\n",
              "    <tr>\n",
              "      <th>2</th>\n",
              "      <td>48</td>\n",
              "      <td>Pocahontas</td>\n",
              "      <td>4.5</td>\n",
              "    </tr>\n",
              "    <tr>\n",
              "      <th>3</th>\n",
              "      <td>49</td>\n",
              "      <td>When Night Is Falling</td>\n",
              "      <td>4.5</td>\n",
              "    </tr>\n",
              "    <tr>\n",
              "      <th>4</th>\n",
              "      <td>313</td>\n",
              "      <td>Swan Princess, The</td>\n",
              "      <td>4.5</td>\n",
              "    </tr>\n",
              "  </tbody>\n",
              "</table>\n",
              "</div>"
            ],
            "text/plain": [
              "   movieId                  title  rating\n",
              "0        1              Toy Story     5.0\n",
              "1       13                  Balto     5.0\n",
              "2       48             Pocahontas     4.5\n",
              "3       49  When Night Is Falling     4.5\n",
              "4      313     Swan Princess, The     4.5"
            ]
          },
          "metadata": {
            "tags": []
          },
          "execution_count": 55
        }
      ]
    },
    {
      "cell_type": "code",
      "metadata": {
        "id": "k1Wd7i0huTeX"
      },
      "source": [
        "#subset of users that have watched and reviewed the movies in our input:\r\n",
        "#Filtering out users that have watched movies that the input has watched and storing it\r\n",
        "userSubset = ratings[ratings['movieId'].isin(inputMovies['movieId'].tolist())]\r\n",
        "userSubset.head()"
      ],
      "execution_count": null,
      "outputs": []
    },
    {
      "cell_type": "code",
      "metadata": {
        "id": "ZQQp2juwunqX"
      },
      "source": [
        "#group up the rows by user ID\r\n",
        "#Groupby creates several sub dataframes where they all have the same value in the column specified as the parameter\r\n",
        "userSubsetGroup = userSubset.groupby(['userId'])\r\n"
      ],
      "execution_count": 58,
      "outputs": []
    },
    {
      "cell_type": "code",
      "metadata": {
        "id": "3wZDKMiSvMHb",
        "outputId": "a7db4531-41e4-44ba-8ce8-4b14ceab4a1d",
        "colab": {
          "base_uri": "https://localhost:8080/",
          "height": 169
        }
      },
      "source": [
        "#sort these groups so the users that share the most movies in common with the input have higher priority. \r\n",
        "#This provides a richer recommendation since we won't go through every single user.\r\n",
        "userSubsetGroup = sorted(userSubsetGroup,  key=lambda x: len(x[1]), reverse=True)\r\n",
        "#Top most user with id 91 having all 5 similar moves watched\r\n",
        "#dataframe of top user group\r\n",
        "userSubsetGroup[0][1]"
      ],
      "execution_count": 62,
      "outputs": [
        {
          "output_type": "execute_result",
          "data": {
            "text/html": [
              "<div>\n",
              "<style scoped>\n",
              "    .dataframe tbody tr th:only-of-type {\n",
              "        vertical-align: middle;\n",
              "    }\n",
              "\n",
              "    .dataframe tbody tr th {\n",
              "        vertical-align: top;\n",
              "    }\n",
              "\n",
              "    .dataframe thead th {\n",
              "        text-align: right;\n",
              "    }\n",
              "</style>\n",
              "<table border=\"1\" class=\"dataframe\">\n",
              "  <thead>\n",
              "    <tr style=\"text-align: right;\">\n",
              "      <th></th>\n",
              "      <th>userId</th>\n",
              "      <th>movieId</th>\n",
              "      <th>rating</th>\n",
              "    </tr>\n",
              "  </thead>\n",
              "  <tbody>\n",
              "    <tr>\n",
              "      <th>75355</th>\n",
              "      <td>476</td>\n",
              "      <td>1</td>\n",
              "      <td>4.0</td>\n",
              "    </tr>\n",
              "    <tr>\n",
              "      <th>75359</th>\n",
              "      <td>476</td>\n",
              "      <td>13</td>\n",
              "      <td>3.0</td>\n",
              "    </tr>\n",
              "    <tr>\n",
              "      <th>75363</th>\n",
              "      <td>476</td>\n",
              "      <td>48</td>\n",
              "      <td>4.0</td>\n",
              "    </tr>\n",
              "    <tr>\n",
              "      <th>75382</th>\n",
              "      <td>476</td>\n",
              "      <td>313</td>\n",
              "      <td>4.0</td>\n",
              "    </tr>\n",
              "  </tbody>\n",
              "</table>\n",
              "</div>"
            ],
            "text/plain": [
              "       userId  movieId  rating\n",
              "75355     476        1     4.0\n",
              "75359     476       13     3.0\n",
              "75363     476       48     4.0\n",
              "75382     476      313     4.0"
            ]
          },
          "metadata": {
            "tags": []
          },
          "execution_count": 62
        }
      ]
    },
    {
      "cell_type": "code",
      "metadata": {
        "id": "6pZ_EpQfwVoz"
      },
      "source": [
        "#Similarity of users to input user\r\n",
        "#subset of users to iterate through. This limit is imposed because we don't want to waste too much time going through every single user\r\n",
        "userSubsetGroup = userSubsetGroup[0:100]"
      ],
      "execution_count": 63,
      "outputs": []
    },
    {
      "cell_type": "code",
      "metadata": {
        "id": "VnYEfLUmwrXz"
      },
      "source": [
        "#calculate the Pearson Correlation between input user and subset group, and store it in a dictionary, where the key is the user Id and the value is the coefficient\r\n",
        "#Store the Pearson Correlation in a dictionary, where the key is the user Id and the value is the coefficient\r\n",
        "\r\n",
        "pearsonCorrelationDict = {}\r\n",
        "\r\n",
        "#For every user group in our subset\r\n",
        "for name, group in userSubsetGroup:\r\n",
        "    \r\n",
        "    #Let's start by sorting the input and current user group so the values aren't mixed up later on\r\n",
        "    group = group.sort_values(by='movieId')\r\n",
        "    inputMovies = inputMovies.sort_values(by='movieId')\r\n",
        "    \r\n",
        "    #Get the N (total similar movies watched) for the formula \r\n",
        "    nRatings = len(group)\r\n",
        "    \r\n",
        "    #Get the review scores for the movies that they both have in common\r\n",
        "    temp_df = inputMovies[inputMovies['movieId'].isin(group['movieId'].tolist())]\r\n",
        "    \r\n",
        "    ###For Debugging Purpose\r\n",
        "    #if nRatings<5:\r\n",
        "    #    print(inputMovies['movieId'].isin(group['movieId'].tolist()))\r\n",
        "    #    break\r\n",
        "    #else:\r\n",
        "    #    continue\r\n",
        "    \r\n",
        "    #And then store them in a temporary buffer variable in a list format to facilitate future calculations\r\n",
        "    tempRatingList = temp_df['rating'].tolist()\r\n",
        "    \r\n",
        "    #Let's also put the current user group reviews in a list format\r\n",
        "    tempGroupList = group['rating'].tolist()\r\n",
        "    \r\n",
        "    #Now let's calculate the pearson correlation between two users, so called, x and y\r\n",
        "\r\n",
        "    #For package based\r\n",
        "    #scipy.stats import pearsonr\r\n",
        "    #pearsonr(tempRatingList,tempGroupList)[0]\r\n",
        "\r\n",
        "    #For hard code based\r\n",
        "    Sxx = sum([i**2 for i in tempRatingList]) - pow(sum(tempRatingList),2)/float(nRatings)\r\n",
        "    Syy = sum([i**2 for i in tempGroupList]) - pow(sum(tempGroupList),2)/float(nRatings)\r\n",
        "    Sxy = sum( i*j for i, j in zip(tempRatingList, tempGroupList)) - sum(tempRatingList)*sum(tempGroupList)/float(nRatings)\r\n",
        "    \r\n",
        "    #If the denominator is different than zero, then divide, else, 0 correlation.\r\n",
        "    if Sxx != 0 and Syy != 0:\r\n",
        "        pearsonCorrelationDict[name] = Sxy/np.sqrt(Sxx*Syy)\r\n",
        "    else:\r\n",
        "        pearsonCorrelationDict[name] = 0"
      ],
      "execution_count": 64,
      "outputs": []
    },
    {
      "cell_type": "code",
      "metadata": {
        "id": "yh_L3mjQxNjY",
        "outputId": "33b42bfc-b802-4398-9684-89ec2efd6bc3",
        "colab": {
          "base_uri": "https://localhost:8080/"
        }
      },
      "source": [
        "pearsonCorrelationDict.items()"
      ],
      "execution_count": 65,
      "outputs": [
        {
          "output_type": "execute_result",
          "data": {
            "text/plain": [
              "dict_items([(476, -0.5773502691896258), (19, 0.9449111825230572), (288, 0.49999999999998995), (380, 0.9999999999999827), (509, 0.0), (6, 0), (20, -1.0), (21, 1.0), (27, -1.0), (40, 1.0), (43, 0), (64, 1.0), (68, -1.0), (76, 0), (103, 1.0), (132, -1.0), (134, 0), (144, -1.0), (161, 0), (169, 1.0), (177, 1.0), (202, 1.0), (216, 1.0), (226, 1.0), (232, 1.0), (234, 0), (240, 1.0), (249, 1.0), (264, 1.0), (274, 1.0), (304, 0), (323, 0), (328, 0), (372, 1.0), (381, 1.0), (401, 1.0), (414, 1.0), (436, 0), (483, 1.0), (484, 0), (525, 1.0), (534, 0), (559, 1.0), (560, 1.0), (579, 0), (584, 0), (608, 1.0), (1, 0), (5, 0), (7, 0), (15, 0), (17, 0), (18, 0), (31, 0), (32, 0), (33, 0), (38, 0), (44, 0), (45, 0), (46, 0), (48, 0), (50, 0), (54, 0), (57, 0), (58, 0), (60, 0), (63, 0), (66, 0), (71, 0), (73, 0), (78, 0), (82, 0), (86, 0), (89, 0), (90, 0), (91, 0), (93, 0), (96, 0), (98, 0), (107, 0), (111, 0), (112, 0), (117, 0), (119, 0), (121, 0), (124, 0), (130, 0), (135, 0), (137, 0), (140, 0), (141, 0), (145, 0), (151, 0), (153, 0), (155, 0), (156, 0), (159, 0), (160, 0), (166, 0), (167, 0)])"
            ]
          },
          "metadata": {
            "tags": []
          },
          "execution_count": 65
        }
      ]
    },
    {
      "cell_type": "code",
      "metadata": {
        "id": "NBjjEO6dxTSQ",
        "outputId": "e07012fe-3601-4407-f66e-275ded2dae6f",
        "colab": {
          "base_uri": "https://localhost:8080/",
          "height": 199
        }
      },
      "source": [
        "pearsonDF = pd.DataFrame.from_dict(pearsonCorrelationDict, orient='index')\r\n",
        "pearsonDF.head()\r\n"
      ],
      "execution_count": 66,
      "outputs": [
        {
          "output_type": "execute_result",
          "data": {
            "text/html": [
              "<div>\n",
              "<style scoped>\n",
              "    .dataframe tbody tr th:only-of-type {\n",
              "        vertical-align: middle;\n",
              "    }\n",
              "\n",
              "    .dataframe tbody tr th {\n",
              "        vertical-align: top;\n",
              "    }\n",
              "\n",
              "    .dataframe thead th {\n",
              "        text-align: right;\n",
              "    }\n",
              "</style>\n",
              "<table border=\"1\" class=\"dataframe\">\n",
              "  <thead>\n",
              "    <tr style=\"text-align: right;\">\n",
              "      <th></th>\n",
              "      <th>0</th>\n",
              "    </tr>\n",
              "  </thead>\n",
              "  <tbody>\n",
              "    <tr>\n",
              "      <th>476</th>\n",
              "      <td>-0.577350</td>\n",
              "    </tr>\n",
              "    <tr>\n",
              "      <th>19</th>\n",
              "      <td>0.944911</td>\n",
              "    </tr>\n",
              "    <tr>\n",
              "      <th>288</th>\n",
              "      <td>0.500000</td>\n",
              "    </tr>\n",
              "    <tr>\n",
              "      <th>380</th>\n",
              "      <td>1.000000</td>\n",
              "    </tr>\n",
              "    <tr>\n",
              "      <th>509</th>\n",
              "      <td>0.000000</td>\n",
              "    </tr>\n",
              "  </tbody>\n",
              "</table>\n",
              "</div>"
            ],
            "text/plain": [
              "            0\n",
              "476 -0.577350\n",
              "19   0.944911\n",
              "288  0.500000\n",
              "380  1.000000\n",
              "509  0.000000"
            ]
          },
          "metadata": {
            "tags": []
          },
          "execution_count": 66
        }
      ]
    },
    {
      "cell_type": "code",
      "metadata": {
        "id": "769T2tGXWVaw",
        "outputId": "5d1a1f92-42e6-4d85-b389-48161b9d9079",
        "colab": {
          "base_uri": "https://localhost:8080/",
          "height": 199
        }
      },
      "source": [
        "pearsonDF.columns = ['similarityIndex']\r\n",
        "pearsonDF['userId'] = pearsonDF.index\r\n",
        "pearsonDF.index = range(len(pearsonDF))\r\n",
        "pearsonDF.head()\r\n"
      ],
      "execution_count": 67,
      "outputs": [
        {
          "output_type": "execute_result",
          "data": {
            "text/html": [
              "<div>\n",
              "<style scoped>\n",
              "    .dataframe tbody tr th:only-of-type {\n",
              "        vertical-align: middle;\n",
              "    }\n",
              "\n",
              "    .dataframe tbody tr th {\n",
              "        vertical-align: top;\n",
              "    }\n",
              "\n",
              "    .dataframe thead th {\n",
              "        text-align: right;\n",
              "    }\n",
              "</style>\n",
              "<table border=\"1\" class=\"dataframe\">\n",
              "  <thead>\n",
              "    <tr style=\"text-align: right;\">\n",
              "      <th></th>\n",
              "      <th>similarityIndex</th>\n",
              "      <th>userId</th>\n",
              "    </tr>\n",
              "  </thead>\n",
              "  <tbody>\n",
              "    <tr>\n",
              "      <th>0</th>\n",
              "      <td>-0.577350</td>\n",
              "      <td>476</td>\n",
              "    </tr>\n",
              "    <tr>\n",
              "      <th>1</th>\n",
              "      <td>0.944911</td>\n",
              "      <td>19</td>\n",
              "    </tr>\n",
              "    <tr>\n",
              "      <th>2</th>\n",
              "      <td>0.500000</td>\n",
              "      <td>288</td>\n",
              "    </tr>\n",
              "    <tr>\n",
              "      <th>3</th>\n",
              "      <td>1.000000</td>\n",
              "      <td>380</td>\n",
              "    </tr>\n",
              "    <tr>\n",
              "      <th>4</th>\n",
              "      <td>0.000000</td>\n",
              "      <td>509</td>\n",
              "    </tr>\n",
              "  </tbody>\n",
              "</table>\n",
              "</div>"
            ],
            "text/plain": [
              "   similarityIndex  userId\n",
              "0        -0.577350     476\n",
              "1         0.944911      19\n",
              "2         0.500000     288\n",
              "3         1.000000     380\n",
              "4         0.000000     509"
            ]
          },
          "metadata": {
            "tags": []
          },
          "execution_count": 67
        }
      ]
    },
    {
      "cell_type": "code",
      "metadata": {
        "id": "hzRv0ccTVjv_",
        "outputId": "67331348-2336-447b-c0a6-167cc19edf83",
        "colab": {
          "base_uri": "https://localhost:8080/",
          "height": 502
        }
      },
      "source": [
        "#top 1000 users that are most similar to the input.\r\n",
        "topUsers=pearsonDF.sort_values(by='similarityIndex', ascending=False)[0:50]\r\n",
        "topUsers.head(15)"
      ],
      "execution_count": 68,
      "outputs": [
        {
          "output_type": "execute_result",
          "data": {
            "text/html": [
              "<div>\n",
              "<style scoped>\n",
              "    .dataframe tbody tr th:only-of-type {\n",
              "        vertical-align: middle;\n",
              "    }\n",
              "\n",
              "    .dataframe tbody tr th {\n",
              "        vertical-align: top;\n",
              "    }\n",
              "\n",
              "    .dataframe thead th {\n",
              "        text-align: right;\n",
              "    }\n",
              "</style>\n",
              "<table border=\"1\" class=\"dataframe\">\n",
              "  <thead>\n",
              "    <tr style=\"text-align: right;\">\n",
              "      <th></th>\n",
              "      <th>similarityIndex</th>\n",
              "      <th>userId</th>\n",
              "    </tr>\n",
              "  </thead>\n",
              "  <tbody>\n",
              "    <tr>\n",
              "      <th>21</th>\n",
              "      <td>1.0</td>\n",
              "      <td>202</td>\n",
              "    </tr>\n",
              "    <tr>\n",
              "      <th>19</th>\n",
              "      <td>1.0</td>\n",
              "      <td>169</td>\n",
              "    </tr>\n",
              "    <tr>\n",
              "      <th>43</th>\n",
              "      <td>1.0</td>\n",
              "      <td>560</td>\n",
              "    </tr>\n",
              "    <tr>\n",
              "      <th>22</th>\n",
              "      <td>1.0</td>\n",
              "      <td>216</td>\n",
              "    </tr>\n",
              "    <tr>\n",
              "      <th>23</th>\n",
              "      <td>1.0</td>\n",
              "      <td>226</td>\n",
              "    </tr>\n",
              "    <tr>\n",
              "      <th>24</th>\n",
              "      <td>1.0</td>\n",
              "      <td>232</td>\n",
              "    </tr>\n",
              "    <tr>\n",
              "      <th>26</th>\n",
              "      <td>1.0</td>\n",
              "      <td>240</td>\n",
              "    </tr>\n",
              "    <tr>\n",
              "      <th>27</th>\n",
              "      <td>1.0</td>\n",
              "      <td>249</td>\n",
              "    </tr>\n",
              "    <tr>\n",
              "      <th>28</th>\n",
              "      <td>1.0</td>\n",
              "      <td>264</td>\n",
              "    </tr>\n",
              "    <tr>\n",
              "      <th>29</th>\n",
              "      <td>1.0</td>\n",
              "      <td>274</td>\n",
              "    </tr>\n",
              "    <tr>\n",
              "      <th>33</th>\n",
              "      <td>1.0</td>\n",
              "      <td>372</td>\n",
              "    </tr>\n",
              "    <tr>\n",
              "      <th>34</th>\n",
              "      <td>1.0</td>\n",
              "      <td>381</td>\n",
              "    </tr>\n",
              "    <tr>\n",
              "      <th>35</th>\n",
              "      <td>1.0</td>\n",
              "      <td>401</td>\n",
              "    </tr>\n",
              "    <tr>\n",
              "      <th>36</th>\n",
              "      <td>1.0</td>\n",
              "      <td>414</td>\n",
              "    </tr>\n",
              "    <tr>\n",
              "      <th>46</th>\n",
              "      <td>1.0</td>\n",
              "      <td>608</td>\n",
              "    </tr>\n",
              "  </tbody>\n",
              "</table>\n",
              "</div>"
            ],
            "text/plain": [
              "    similarityIndex  userId\n",
              "21              1.0     202\n",
              "19              1.0     169\n",
              "43              1.0     560\n",
              "22              1.0     216\n",
              "23              1.0     226\n",
              "24              1.0     232\n",
              "26              1.0     240\n",
              "27              1.0     249\n",
              "28              1.0     264\n",
              "29              1.0     274\n",
              "33              1.0     372\n",
              "34              1.0     381\n",
              "35              1.0     401\n",
              "36              1.0     414\n",
              "46              1.0     608"
            ]
          },
          "metadata": {
            "tags": []
          },
          "execution_count": 68
        }
      ]
    },
    {
      "cell_type": "markdown",
      "metadata": {
        "id": "vCk4YGCrV-so"
      },
      "source": [
        "Rating of selected users to all movies\r\n",
        "We're going to do this by taking the weighted average of the ratings of the movies using the Pearson Correlation as the weight. But to do this, we first need to get the movies watched by the users in our pearsonDF from the ratings dataframe and then store their correlation in a new column called _similarityIndex\". This is achieved below by merging of these two tables."
      ]
    },
    {
      "cell_type": "code",
      "metadata": {
        "id": "53dQ_1dBWB8D",
        "outputId": "3bdf689d-38aa-49da-b411-5adac60eb3c5",
        "colab": {
          "base_uri": "https://localhost:8080/",
          "height": 199
        }
      },
      "source": [
        "topUsersRating = topUsers.merge(ratings, left_on='userId', right_on='userId', how='inner')\r\n",
        "topUsersRating.tail()"
      ],
      "execution_count": 69,
      "outputs": [
        {
          "output_type": "execute_result",
          "data": {
            "text/html": [
              "<div>\n",
              "<style scoped>\n",
              "    .dataframe tbody tr th:only-of-type {\n",
              "        vertical-align: middle;\n",
              "    }\n",
              "\n",
              "    .dataframe tbody tr th {\n",
              "        vertical-align: top;\n",
              "    }\n",
              "\n",
              "    .dataframe thead th {\n",
              "        text-align: right;\n",
              "    }\n",
              "</style>\n",
              "<table border=\"1\" class=\"dataframe\">\n",
              "  <thead>\n",
              "    <tr style=\"text-align: right;\">\n",
              "      <th></th>\n",
              "      <th>similarityIndex</th>\n",
              "      <th>userId</th>\n",
              "      <th>movieId</th>\n",
              "      <th>rating</th>\n",
              "    </tr>\n",
              "  </thead>\n",
              "  <tbody>\n",
              "    <tr>\n",
              "      <th>20963</th>\n",
              "      <td>0.0</td>\n",
              "      <td>156</td>\n",
              "      <td>8228</td>\n",
              "      <td>5.0</td>\n",
              "    </tr>\n",
              "    <tr>\n",
              "      <th>20964</th>\n",
              "      <td>0.0</td>\n",
              "      <td>156</td>\n",
              "      <td>8571</td>\n",
              "      <td>3.5</td>\n",
              "    </tr>\n",
              "    <tr>\n",
              "      <th>20965</th>\n",
              "      <td>0.0</td>\n",
              "      <td>156</td>\n",
              "      <td>8614</td>\n",
              "      <td>3.5</td>\n",
              "    </tr>\n",
              "    <tr>\n",
              "      <th>20966</th>\n",
              "      <td>0.0</td>\n",
              "      <td>156</td>\n",
              "      <td>26313</td>\n",
              "      <td>4.0</td>\n",
              "    </tr>\n",
              "    <tr>\n",
              "      <th>20967</th>\n",
              "      <td>0.0</td>\n",
              "      <td>156</td>\n",
              "      <td>31038</td>\n",
              "      <td>4.0</td>\n",
              "    </tr>\n",
              "  </tbody>\n",
              "</table>\n",
              "</div>"
            ],
            "text/plain": [
              "       similarityIndex  userId  movieId  rating\n",
              "20963              0.0     156     8228     5.0\n",
              "20964              0.0     156     8571     3.5\n",
              "20965              0.0     156     8614     3.5\n",
              "20966              0.0     156    26313     4.0\n",
              "20967              0.0     156    31038     4.0"
            ]
          },
          "metadata": {
            "tags": []
          },
          "execution_count": 69
        }
      ]
    },
    {
      "cell_type": "markdown",
      "metadata": {
        "id": "4IaFQ-ijmyej"
      },
      "source": [
        "Now all we need to do is simply multiply the movie rating by its weight (The similarity index), then sum up the new ratings and divide it by the sum of the weights.\r\n",
        "\r\n",
        "We can easily do this by simply multiplying two columns, then grouping up the dataframe by movieId and then dividing two columns:\r\n",
        "\r\n",
        "It shows the idea of all similar users to candidate movies for the input user:"
      ]
    },
    {
      "cell_type": "code",
      "metadata": {
        "id": "DbIZFBrmm110",
        "outputId": "444adf3c-04d2-46d3-c875-8a035f4bd95e",
        "colab": {
          "base_uri": "https://localhost:8080/",
          "height": 199
        }
      },
      "source": [
        "#Multiplies the similarity by the user's ratings\r\n",
        "topUsersRating['weightedRating'] = topUsersRating['similarityIndex']*topUsersRating['rating']\r\n",
        "topUsersRating.head()"
      ],
      "execution_count": 70,
      "outputs": [
        {
          "output_type": "execute_result",
          "data": {
            "text/html": [
              "<div>\n",
              "<style scoped>\n",
              "    .dataframe tbody tr th:only-of-type {\n",
              "        vertical-align: middle;\n",
              "    }\n",
              "\n",
              "    .dataframe tbody tr th {\n",
              "        vertical-align: top;\n",
              "    }\n",
              "\n",
              "    .dataframe thead th {\n",
              "        text-align: right;\n",
              "    }\n",
              "</style>\n",
              "<table border=\"1\" class=\"dataframe\">\n",
              "  <thead>\n",
              "    <tr style=\"text-align: right;\">\n",
              "      <th></th>\n",
              "      <th>similarityIndex</th>\n",
              "      <th>userId</th>\n",
              "      <th>movieId</th>\n",
              "      <th>rating</th>\n",
              "      <th>weightedRating</th>\n",
              "    </tr>\n",
              "  </thead>\n",
              "  <tbody>\n",
              "    <tr>\n",
              "      <th>0</th>\n",
              "      <td>1.0</td>\n",
              "      <td>202</td>\n",
              "      <td>1</td>\n",
              "      <td>4.0</td>\n",
              "      <td>4.0</td>\n",
              "    </tr>\n",
              "    <tr>\n",
              "      <th>1</th>\n",
              "      <td>1.0</td>\n",
              "      <td>202</td>\n",
              "      <td>2</td>\n",
              "      <td>4.0</td>\n",
              "      <td>4.0</td>\n",
              "    </tr>\n",
              "    <tr>\n",
              "      <th>2</th>\n",
              "      <td>1.0</td>\n",
              "      <td>202</td>\n",
              "      <td>6</td>\n",
              "      <td>5.0</td>\n",
              "      <td>5.0</td>\n",
              "    </tr>\n",
              "    <tr>\n",
              "      <th>3</th>\n",
              "      <td>1.0</td>\n",
              "      <td>202</td>\n",
              "      <td>10</td>\n",
              "      <td>4.0</td>\n",
              "      <td>4.0</td>\n",
              "    </tr>\n",
              "    <tr>\n",
              "      <th>4</th>\n",
              "      <td>1.0</td>\n",
              "      <td>202</td>\n",
              "      <td>11</td>\n",
              "      <td>4.0</td>\n",
              "      <td>4.0</td>\n",
              "    </tr>\n",
              "  </tbody>\n",
              "</table>\n",
              "</div>"
            ],
            "text/plain": [
              "   similarityIndex  userId  movieId  rating  weightedRating\n",
              "0              1.0     202        1     4.0             4.0\n",
              "1              1.0     202        2     4.0             4.0\n",
              "2              1.0     202        6     5.0             5.0\n",
              "3              1.0     202       10     4.0             4.0\n",
              "4              1.0     202       11     4.0             4.0"
            ]
          },
          "metadata": {
            "tags": []
          },
          "execution_count": 70
        }
      ]
    },
    {
      "cell_type": "code",
      "metadata": {
        "id": "vUkWYAgUm56N",
        "outputId": "1c8b64df-ea35-4c62-944d-ce974009cd35",
        "colab": {
          "base_uri": "https://localhost:8080/",
          "height": 230
        }
      },
      "source": [
        "#Applies a sum to the topUsers after grouping it up by userId\r\n",
        "tempTopUsersRating = topUsersRating.groupby('movieId').sum()[['similarityIndex','weightedRating']]\r\n",
        "tempTopUsersRating.columns = ['sum_similarityIndex','sum_weightedRating']\r\n",
        "tempTopUsersRating.head()"
      ],
      "execution_count": 71,
      "outputs": [
        {
          "output_type": "execute_result",
          "data": {
            "text/html": [
              "<div>\n",
              "<style scoped>\n",
              "    .dataframe tbody tr th:only-of-type {\n",
              "        vertical-align: middle;\n",
              "    }\n",
              "\n",
              "    .dataframe tbody tr th {\n",
              "        vertical-align: top;\n",
              "    }\n",
              "\n",
              "    .dataframe thead th {\n",
              "        text-align: right;\n",
              "    }\n",
              "</style>\n",
              "<table border=\"1\" class=\"dataframe\">\n",
              "  <thead>\n",
              "    <tr style=\"text-align: right;\">\n",
              "      <th></th>\n",
              "      <th>sum_similarityIndex</th>\n",
              "      <th>sum_weightedRating</th>\n",
              "    </tr>\n",
              "    <tr>\n",
              "      <th>movieId</th>\n",
              "      <th></th>\n",
              "      <th></th>\n",
              "    </tr>\n",
              "  </thead>\n",
              "  <tbody>\n",
              "    <tr>\n",
              "      <th>1</th>\n",
              "      <td>25.444911</td>\n",
              "      <td>100.529645</td>\n",
              "    </tr>\n",
              "    <tr>\n",
              "      <th>2</th>\n",
              "      <td>18.444911</td>\n",
              "      <td>67.834734</td>\n",
              "    </tr>\n",
              "    <tr>\n",
              "      <th>3</th>\n",
              "      <td>7.444911</td>\n",
              "      <td>26.834734</td>\n",
              "    </tr>\n",
              "    <tr>\n",
              "      <th>5</th>\n",
              "      <td>4.500000</td>\n",
              "      <td>14.500000</td>\n",
              "    </tr>\n",
              "    <tr>\n",
              "      <th>6</th>\n",
              "      <td>7.000000</td>\n",
              "      <td>31.500000</td>\n",
              "    </tr>\n",
              "  </tbody>\n",
              "</table>\n",
              "</div>"
            ],
            "text/plain": [
              "         sum_similarityIndex  sum_weightedRating\n",
              "movieId                                         \n",
              "1                  25.444911          100.529645\n",
              "2                  18.444911           67.834734\n",
              "3                   7.444911           26.834734\n",
              "5                   4.500000           14.500000\n",
              "6                   7.000000           31.500000"
            ]
          },
          "metadata": {
            "tags": []
          },
          "execution_count": 71
        }
      ]
    },
    {
      "cell_type": "code",
      "metadata": {
        "id": "koue1Xs7m-sp",
        "outputId": "444025f8-945d-4e49-d9c9-3f142ab06902",
        "colab": {
          "base_uri": "https://localhost:8080/",
          "height": 230
        }
      },
      "source": [
        "#Creates an empty dataframe\r\n",
        "recommendation_df = pd.DataFrame()\r\n",
        "#Now we take the weighted average\r\n",
        "recommendation_df['weighted average recommendation score'] = tempTopUsersRating['sum_weightedRating']/tempTopUsersRating['sum_similarityIndex']\r\n",
        "recommendation_df['movieId'] = tempTopUsersRating.index\r\n",
        "recommendation_df.head()"
      ],
      "execution_count": 72,
      "outputs": [
        {
          "output_type": "execute_result",
          "data": {
            "text/html": [
              "<div>\n",
              "<style scoped>\n",
              "    .dataframe tbody tr th:only-of-type {\n",
              "        vertical-align: middle;\n",
              "    }\n",
              "\n",
              "    .dataframe tbody tr th {\n",
              "        vertical-align: top;\n",
              "    }\n",
              "\n",
              "    .dataframe thead th {\n",
              "        text-align: right;\n",
              "    }\n",
              "</style>\n",
              "<table border=\"1\" class=\"dataframe\">\n",
              "  <thead>\n",
              "    <tr style=\"text-align: right;\">\n",
              "      <th></th>\n",
              "      <th>weighted average recommendation score</th>\n",
              "      <th>movieId</th>\n",
              "    </tr>\n",
              "    <tr>\n",
              "      <th>movieId</th>\n",
              "      <th></th>\n",
              "      <th></th>\n",
              "    </tr>\n",
              "  </thead>\n",
              "  <tbody>\n",
              "    <tr>\n",
              "      <th>1</th>\n",
              "      <td>3.950874</td>\n",
              "      <td>1</td>\n",
              "    </tr>\n",
              "    <tr>\n",
              "      <th>2</th>\n",
              "      <td>3.677694</td>\n",
              "      <td>2</td>\n",
              "    </tr>\n",
              "    <tr>\n",
              "      <th>3</th>\n",
              "      <td>3.604440</td>\n",
              "      <td>3</td>\n",
              "    </tr>\n",
              "    <tr>\n",
              "      <th>5</th>\n",
              "      <td>3.222222</td>\n",
              "      <td>5</td>\n",
              "    </tr>\n",
              "    <tr>\n",
              "      <th>6</th>\n",
              "      <td>4.500000</td>\n",
              "      <td>6</td>\n",
              "    </tr>\n",
              "  </tbody>\n",
              "</table>\n",
              "</div>"
            ],
            "text/plain": [
              "         weighted average recommendation score  movieId\n",
              "movieId                                                \n",
              "1                                     3.950874        1\n",
              "2                                     3.677694        2\n",
              "3                                     3.604440        3\n",
              "5                                     3.222222        5\n",
              "6                                     4.500000        6"
            ]
          },
          "metadata": {
            "tags": []
          },
          "execution_count": 72
        }
      ]
    },
    {
      "cell_type": "markdown",
      "metadata": {
        "id": "QqVruIsrnDUq"
      },
      "source": [
        "Recommended movies\r\n",
        "Now let's sort it and see the top 20 movies that the algorithm recommended!"
      ]
    },
    {
      "cell_type": "code",
      "metadata": {
        "id": "ZmmQEkn5nF8O",
        "outputId": "c4cde5cf-e8ce-4ce7-944a-68138fd6e612",
        "colab": {
          "base_uri": "https://localhost:8080/",
          "height": 230
        }
      },
      "source": [
        "recommendation_df = recommendation_df.sort_values(by='weighted average recommendation score', ascending=False)\r\n",
        "recommendation_df.head()"
      ],
      "execution_count": 73,
      "outputs": [
        {
          "output_type": "execute_result",
          "data": {
            "text/html": [
              "<div>\n",
              "<style scoped>\n",
              "    .dataframe tbody tr th:only-of-type {\n",
              "        vertical-align: middle;\n",
              "    }\n",
              "\n",
              "    .dataframe tbody tr th {\n",
              "        vertical-align: top;\n",
              "    }\n",
              "\n",
              "    .dataframe thead th {\n",
              "        text-align: right;\n",
              "    }\n",
              "</style>\n",
              "<table border=\"1\" class=\"dataframe\">\n",
              "  <thead>\n",
              "    <tr style=\"text-align: right;\">\n",
              "      <th></th>\n",
              "      <th>weighted average recommendation score</th>\n",
              "      <th>movieId</th>\n",
              "    </tr>\n",
              "    <tr>\n",
              "      <th>movieId</th>\n",
              "      <th></th>\n",
              "      <th></th>\n",
              "    </tr>\n",
              "  </thead>\n",
              "  <tbody>\n",
              "    <tr>\n",
              "      <th>62293</th>\n",
              "      <td>5.0</td>\n",
              "      <td>62293</td>\n",
              "    </tr>\n",
              "    <tr>\n",
              "      <th>82</th>\n",
              "      <td>5.0</td>\n",
              "      <td>82</td>\n",
              "    </tr>\n",
              "    <tr>\n",
              "      <th>685</th>\n",
              "      <td>5.0</td>\n",
              "      <td>685</td>\n",
              "    </tr>\n",
              "    <tr>\n",
              "      <th>5577</th>\n",
              "      <td>5.0</td>\n",
              "      <td>5577</td>\n",
              "    </tr>\n",
              "    <tr>\n",
              "      <th>65642</th>\n",
              "      <td>5.0</td>\n",
              "      <td>65642</td>\n",
              "    </tr>\n",
              "  </tbody>\n",
              "</table>\n",
              "</div>"
            ],
            "text/plain": [
              "         weighted average recommendation score  movieId\n",
              "movieId                                                \n",
              "62293                                      5.0    62293\n",
              "82                                         5.0       82\n",
              "685                                        5.0      685\n",
              "5577                                       5.0     5577\n",
              "65642                                      5.0    65642"
            ]
          },
          "metadata": {
            "tags": []
          },
          "execution_count": 73
        }
      ]
    },
    {
      "cell_type": "code",
      "metadata": {
        "id": "EeaEcRK2nJ-u",
        "outputId": "30896b01-0043-4e67-d7fb-39afaca66ec2",
        "colab": {
          "base_uri": "https://localhost:8080/",
          "height": 351
        }
      },
      "source": [
        "movies.loc[movies['movieId'].isin(recommendation_df.head(10)['movieId'].tolist())]"
      ],
      "execution_count": 75,
      "outputs": [
        {
          "output_type": "execute_result",
          "data": {
            "text/html": [
              "<div>\n",
              "<style scoped>\n",
              "    .dataframe tbody tr th:only-of-type {\n",
              "        vertical-align: middle;\n",
              "    }\n",
              "\n",
              "    .dataframe tbody tr th {\n",
              "        vertical-align: top;\n",
              "    }\n",
              "\n",
              "    .dataframe thead th {\n",
              "        text-align: right;\n",
              "    }\n",
              "</style>\n",
              "<table border=\"1\" class=\"dataframe\">\n",
              "  <thead>\n",
              "    <tr style=\"text-align: right;\">\n",
              "      <th></th>\n",
              "      <th>movieId</th>\n",
              "      <th>title</th>\n",
              "      <th>year</th>\n",
              "    </tr>\n",
              "  </thead>\n",
              "  <tbody>\n",
              "    <tr>\n",
              "      <th>74</th>\n",
              "      <td>82</td>\n",
              "      <td>Antonia's Line (Antonia)</td>\n",
              "      <td>1995</td>\n",
              "    </tr>\n",
              "    <tr>\n",
              "      <th>212</th>\n",
              "      <td>248</td>\n",
              "      <td>Houseguest</td>\n",
              "      <td>1994</td>\n",
              "    </tr>\n",
              "    <tr>\n",
              "      <th>564</th>\n",
              "      <td>685</td>\n",
              "      <td>It's My Party</td>\n",
              "      <td>1996</td>\n",
              "    </tr>\n",
              "    <tr>\n",
              "      <th>1086</th>\n",
              "      <td>1411</td>\n",
              "      <td>Hamlet</td>\n",
              "      <td>1996</td>\n",
              "    </tr>\n",
              "    <tr>\n",
              "      <th>3240</th>\n",
              "      <td>4380</td>\n",
              "      <td>Princess and the Warrior, The (Krieger und die...</td>\n",
              "      <td>2000</td>\n",
              "    </tr>\n",
              "    <tr>\n",
              "      <th>3905</th>\n",
              "      <td>5485</td>\n",
              "      <td>Tadpole</td>\n",
              "      <td>2002</td>\n",
              "    </tr>\n",
              "    <tr>\n",
              "      <th>3958</th>\n",
              "      <td>5577</td>\n",
              "      <td>Igby Goes Down</td>\n",
              "      <td>2002</td>\n",
              "    </tr>\n",
              "    <tr>\n",
              "      <th>4716</th>\n",
              "      <td>7034</td>\n",
              "      <td>Show Me Love (Fucking Åmål)</td>\n",
              "      <td>1998</td>\n",
              "    </tr>\n",
              "    <tr>\n",
              "      <th>6857</th>\n",
              "      <td>62293</td>\n",
              "      <td>Duchess, The</td>\n",
              "      <td>2008</td>\n",
              "    </tr>\n",
              "    <tr>\n",
              "      <th>6954</th>\n",
              "      <td>65642</td>\n",
              "      <td>Timecrimes (Cronocrímenes, Los)</td>\n",
              "      <td>2007</td>\n",
              "    </tr>\n",
              "  </tbody>\n",
              "</table>\n",
              "</div>"
            ],
            "text/plain": [
              "      movieId                                              title  year\n",
              "74         82                           Antonia's Line (Antonia)  1995\n",
              "212       248                                         Houseguest  1994\n",
              "564       685                                      It's My Party  1996\n",
              "1086     1411                                             Hamlet  1996\n",
              "3240     4380  Princess and the Warrior, The (Krieger und die...  2000\n",
              "3905     5485                                            Tadpole  2002\n",
              "3958     5577                                     Igby Goes Down  2002\n",
              "4716     7034                        Show Me Love (Fucking Åmål)  1998\n",
              "6857    62293                                       Duchess, The  2008\n",
              "6954    65642                    Timecrimes (Cronocrímenes, Los)  2007"
            ]
          },
          "metadata": {
            "tags": []
          },
          "execution_count": 75
        }
      ]
    }
  ]
}
