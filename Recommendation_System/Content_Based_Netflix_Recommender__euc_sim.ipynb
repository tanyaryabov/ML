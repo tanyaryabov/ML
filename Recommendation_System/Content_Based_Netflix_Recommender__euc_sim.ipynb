{
  "nbformat": 4,
  "nbformat_minor": 0,
  "metadata": {
    "colab": {
      "name": "Content Based Netflix Recommender_ euc_sim.ipynb",
      "provenance": [],
      "authorship_tag": "ABX9TyOraAmmGNXfZoRzsC095Ns9",
      "include_colab_link": true
    },
    "kernelspec": {
      "name": "python3",
      "display_name": "Python 3"
    }
  },
  "cells": [
    {
      "cell_type": "markdown",
      "metadata": {
        "id": "view-in-github",
        "colab_type": "text"
      },
      "source": [
        "<a href=\"https://colab.research.google.com/github/tanyaryabov/ML/blob/master/Content_Based_Netflix_Recommender__euc_sim.ipynb\" target=\"_parent\"><img src=\"https://colab.research.google.com/assets/colab-badge.svg\" alt=\"Open In Colab\"/></a>"
      ]
    },
    {
      "cell_type": "code",
      "metadata": {
        "colab": {
          "base_uri": "https://localhost:8080/"
        },
        "id": "IVDtLIHWrP7K",
        "outputId": "254b5a63-1399-475b-f790-223d1d919bec"
      },
      "source": [
        "from google.colab import drive\r\n",
        "drive.mount('/content/drive')\r\n",
        "!ls /content/drive"
      ],
      "execution_count": null,
      "outputs": [
        {
          "output_type": "stream",
          "text": [
            "Mounted at /content/drive\n",
            "MyDrive  Shareddrives\n"
          ],
          "name": "stdout"
        }
      ]
    },
    {
      "cell_type": "code",
      "metadata": {
        "id": "k4sQvl7mrke9"
      },
      "source": [
        "DATA_PATH= '/content/drive/MyDrive/netflix_titles.csv'"
      ],
      "execution_count": null,
      "outputs": []
    },
    {
      "cell_type": "code",
      "metadata": {
        "colab": {
          "base_uri": "https://localhost:8080/",
          "height": 427
        },
        "id": "vkVNKJqJrlqA",
        "outputId": "6ea56ea8-c7dc-43d5-b339-407c4cafa122"
      },
      "source": [
        "import pandas as pd\r\n",
        "import matplotlib.pyplot as plt\r\n",
        "import seaborn as sns\r\n",
        "\r\n",
        "#Load Dataset\r\n",
        "df = pd.read_csv('/content/drive/MyDrive/netflix_titles.csv')\r\n",
        "print(df.shape)\r\n",
        "df.head()"
      ],
      "execution_count": null,
      "outputs": [
        {
          "output_type": "stream",
          "text": [
            "(7787, 12)\n"
          ],
          "name": "stdout"
        },
        {
          "output_type": "execute_result",
          "data": {
            "text/html": [
              "<div>\n",
              "<style scoped>\n",
              "    .dataframe tbody tr th:only-of-type {\n",
              "        vertical-align: middle;\n",
              "    }\n",
              "\n",
              "    .dataframe tbody tr th {\n",
              "        vertical-align: top;\n",
              "    }\n",
              "\n",
              "    .dataframe thead th {\n",
              "        text-align: right;\n",
              "    }\n",
              "</style>\n",
              "<table border=\"1\" class=\"dataframe\">\n",
              "  <thead>\n",
              "    <tr style=\"text-align: right;\">\n",
              "      <th></th>\n",
              "      <th>show_id</th>\n",
              "      <th>type</th>\n",
              "      <th>title</th>\n",
              "      <th>director</th>\n",
              "      <th>cast</th>\n",
              "      <th>country</th>\n",
              "      <th>date_added</th>\n",
              "      <th>release_year</th>\n",
              "      <th>rating</th>\n",
              "      <th>duration</th>\n",
              "      <th>listed_in</th>\n",
              "      <th>description</th>\n",
              "    </tr>\n",
              "  </thead>\n",
              "  <tbody>\n",
              "    <tr>\n",
              "      <th>0</th>\n",
              "      <td>s1</td>\n",
              "      <td>TV Show</td>\n",
              "      <td>3%</td>\n",
              "      <td>NaN</td>\n",
              "      <td>João Miguel, Bianca Comparato, Michel Gomes, R...</td>\n",
              "      <td>Brazil</td>\n",
              "      <td>August 14, 2020</td>\n",
              "      <td>2020</td>\n",
              "      <td>TV-MA</td>\n",
              "      <td>4 Seasons</td>\n",
              "      <td>International TV Shows, TV Dramas, TV Sci-Fi &amp;...</td>\n",
              "      <td>In a future where the elite inhabit an island ...</td>\n",
              "    </tr>\n",
              "    <tr>\n",
              "      <th>1</th>\n",
              "      <td>s2</td>\n",
              "      <td>Movie</td>\n",
              "      <td>7:19</td>\n",
              "      <td>Jorge Michel Grau</td>\n",
              "      <td>Demián Bichir, Héctor Bonilla, Oscar Serrano, ...</td>\n",
              "      <td>Mexico</td>\n",
              "      <td>December 23, 2016</td>\n",
              "      <td>2016</td>\n",
              "      <td>TV-MA</td>\n",
              "      <td>93 min</td>\n",
              "      <td>Dramas, International Movies</td>\n",
              "      <td>After a devastating earthquake hits Mexico Cit...</td>\n",
              "    </tr>\n",
              "    <tr>\n",
              "      <th>2</th>\n",
              "      <td>s3</td>\n",
              "      <td>Movie</td>\n",
              "      <td>23:59</td>\n",
              "      <td>Gilbert Chan</td>\n",
              "      <td>Tedd Chan, Stella Chung, Henley Hii, Lawrence ...</td>\n",
              "      <td>Singapore</td>\n",
              "      <td>December 20, 2018</td>\n",
              "      <td>2011</td>\n",
              "      <td>R</td>\n",
              "      <td>78 min</td>\n",
              "      <td>Horror Movies, International Movies</td>\n",
              "      <td>When an army recruit is found dead, his fellow...</td>\n",
              "    </tr>\n",
              "    <tr>\n",
              "      <th>3</th>\n",
              "      <td>s4</td>\n",
              "      <td>Movie</td>\n",
              "      <td>9</td>\n",
              "      <td>Shane Acker</td>\n",
              "      <td>Elijah Wood, John C. Reilly, Jennifer Connelly...</td>\n",
              "      <td>United States</td>\n",
              "      <td>November 16, 2017</td>\n",
              "      <td>2009</td>\n",
              "      <td>PG-13</td>\n",
              "      <td>80 min</td>\n",
              "      <td>Action &amp; Adventure, Independent Movies, Sci-Fi...</td>\n",
              "      <td>In a postapocalyptic world, rag-doll robots hi...</td>\n",
              "    </tr>\n",
              "    <tr>\n",
              "      <th>4</th>\n",
              "      <td>s5</td>\n",
              "      <td>Movie</td>\n",
              "      <td>21</td>\n",
              "      <td>Robert Luketic</td>\n",
              "      <td>Jim Sturgess, Kevin Spacey, Kate Bosworth, Aar...</td>\n",
              "      <td>United States</td>\n",
              "      <td>January 1, 2020</td>\n",
              "      <td>2008</td>\n",
              "      <td>PG-13</td>\n",
              "      <td>123 min</td>\n",
              "      <td>Dramas</td>\n",
              "      <td>A brilliant group of students become card-coun...</td>\n",
              "    </tr>\n",
              "  </tbody>\n",
              "</table>\n",
              "</div>"
            ],
            "text/plain": [
              "  show_id  ...                                        description\n",
              "0      s1  ...  In a future where the elite inhabit an island ...\n",
              "1      s2  ...  After a devastating earthquake hits Mexico Cit...\n",
              "2      s3  ...  When an army recruit is found dead, his fellow...\n",
              "3      s4  ...  In a postapocalyptic world, rag-doll robots hi...\n",
              "4      s5  ...  A brilliant group of students become card-coun...\n",
              "\n",
              "[5 rows x 12 columns]"
            ]
          },
          "metadata": {
            "tags": []
          },
          "execution_count": 3
        }
      ]
    },
    {
      "cell_type": "code",
      "metadata": {
        "colab": {
          "base_uri": "https://localhost:8080/"
        },
        "id": "O5tR9At3rrFi",
        "outputId": "c8dfea75-0f72-4e58-fbf3-f8bb40b71101"
      },
      "source": [
        "# TF-IDF weighs a term’s frequency (TF) and its inverse document frequency (IDF). \r\n",
        "# The TF (term frequency) of a word is the frequency of a word (number of times it appears) in a 1 document.\r\n",
        "# The IDF (inverse document frequency) of a word is the measure of how significant that term is in the whole corpus (1 million documents).\r\n",
        "\r\n",
        "from sklearn.feature_extraction.text import TfidfVectorizer\r\n",
        "#Define a TF-IDF Vectorizer Object. Remove all english stop words such as 'the', 'a'\r\n",
        "tfidf = TfidfVectorizer(stop_words='english')\r\n",
        "\r\n",
        "#Replace NaN with an empty string\r\n",
        "df['description'] = df['description'].fillna('')\r\n",
        "\r\n",
        "#Construct the required TF-IDF matrix by fitting and transforming the data\r\n",
        "tfidf_matrix = tfidf.fit_transform(df['description'])\r\n",
        "\r\n",
        "#Output the shape of tfidf_matrix\r\n",
        "tfidf_matrix.shape"
      ],
      "execution_count": null,
      "outputs": [
        {
          "output_type": "execute_result",
          "data": {
            "text/plain": [
              "(7787, 17905)"
            ]
          },
          "metadata": {
            "tags": []
          },
          "execution_count": 5
        }
      ]
    },
    {
      "cell_type": "code",
      "metadata": {
        "colab": {
          "base_uri": "https://localhost:8080/"
        },
        "id": "EcHf9WLytuIb",
        "outputId": "3a2bbe91-9433-41d1-eae0-e2f54f79bf0e"
      },
      "source": [
        "from sklearn.metrics.pairwise import euclidean_distances\r\n",
        "# Compute the euclidian distance matrix\r\n",
        "euc_dist = euclidean_distances(tfidf_matrix, tfidf_matrix)\r\n",
        "euc_dist.shape\r\n",
        "euc_dist[1]"
      ],
      "execution_count": null,
      "outputs": [
        {
          "output_type": "execute_result",
          "data": {
            "text/plain": [
              "array([1.41421356, 0.        , 1.41421356, ..., 1.34461865, 1.41421356,\n",
              "       1.41421356])"
            ]
          },
          "metadata": {
            "tags": []
          },
          "execution_count": 6
        }
      ]
    },
    {
      "cell_type": "code",
      "metadata": {
        "colab": {
          "base_uri": "https://localhost:8080/"
        },
        "id": "ReEwjTl1ulLu",
        "outputId": "a8246344-ce1f-4989-eca5-f6d963fedb57"
      },
      "source": [
        "#Construct a map of indixces and movie titles\r\n",
        "indixes = pd.Series(df.index, index=df['title']).drop_duplicates()\r\n",
        "indixes[:10]"
      ],
      "execution_count": null,
      "outputs": [
        {
          "output_type": "execute_result",
          "data": {
            "text/plain": [
              "title\n",
              "3%       0\n",
              "7:19     1\n",
              "23:59    2\n",
              "9        3\n",
              "21       4\n",
              "46       5\n",
              "122      6\n",
              "187      7\n",
              "706      8\n",
              "1920     9\n",
              "dtype: int64"
            ]
          },
          "metadata": {
            "tags": []
          },
          "execution_count": 7
        }
      ]
    },
    {
      "cell_type": "code",
      "metadata": {
        "id": "ElYDa-nnuoGx"
      },
      "source": [
        "# Function that takes in movie title as input and outputs most similar movies\r\n",
        "def get_recommendations(title, euc_dist=euc_dist):\r\n",
        "    # Get the index of the movie that matches the title\r\n",
        "    idx = indixes[title]\r\n",
        "\r\n",
        "    # Get the pairwsie similarity scores of all movies with that movie\r\n",
        "    euc_scores = list(enumerate(euc_dist[idx]))\r\n",
        "\r\n",
        "    # Sort the movies based on the similarity scores\r\n",
        "    euc_scores = sorted(euc_scores, key=lambda x: x[1], reverse=False)\r\n",
        "   \r\n",
        "\r\n",
        "    # Get the scores of the 10 most similar movies\r\n",
        "    euc_scores = euc_scores[1:11]\r\n",
        "\r\n",
        "    # Get the movie indices\r\n",
        "    movie_indices = [i[0] for i in euc_scores]\r\n",
        "\r\n",
        "    # Return the top 10 most similar movies\r\n",
        "    return df['title'].iloc[movie_indices]"
      ],
      "execution_count": null,
      "outputs": []
    },
    {
      "cell_type": "code",
      "metadata": {
        "colab": {
          "base_uri": "https://localhost:8080/"
        },
        "id": "KzPidqm4whSR",
        "outputId": "22871717-aa93-4a9c-bec9-0b1aeecf5725"
      },
      "source": [
        "get_recommendations('Bridgerton')"
      ],
      "execution_count": null,
      "outputs": [
        {
          "output_type": "execute_result",
          "data": {
            "text/plain": [
              "3098                     Jack Taylor\n",
              "7572            What's Up With Love?\n",
              "2509                Graceful Friends\n",
              "6540                      The L Word\n",
              "3007                         Inmates\n",
              "472     American Pie 9: Girls' Rules\n",
              "524           Angry Indian Goddesses\n",
              "712               Bana Masal Anlatma\n",
              "4048            Merry Happy Whatever\n",
              "3576    LEGENDS OF THE HIDDEN TEMPLE\n",
              "Name: title, dtype: object"
            ]
          },
          "metadata": {
            "tags": []
          },
          "execution_count": 18
        }
      ]
    },
    {
      "cell_type": "code",
      "metadata": {
        "colab": {
          "base_uri": "https://localhost:8080/"
        },
        "id": "efcGVAu0ykUB",
        "outputId": "af0e7deb-b318-4792-f7be-225dfb5b48ef"
      },
      "source": [
        "get_recommendations('LEGENDS OF THE HIDDEN TEMPLE')"
      ],
      "execution_count": null,
      "outputs": [
        {
          "output_type": "execute_result",
          "data": {
            "text/plain": [
              "7303                                 Ultimate Beastmaster\n",
              "3593    LEGO Ninjago: Masters of Spinjitzu: Day of the...\n",
              "7304                          Ultimate Beastmaster México\n",
              "2883                                           Hyperdrive\n",
              "377                                                 Alelí\n",
              "2728                                    High End Yaariyan\n",
              "3421                                           Knightfall\n",
              "905                                           Big Miracle\n",
              "6313                                          The Dreamer\n",
              "96                                         3 Days to Kill\n",
              "Name: title, dtype: object"
            ]
          },
          "metadata": {
            "tags": []
          },
          "execution_count": 19
        }
      ]
    }
  ]
}
