{
  "nbformat": 4,
  "nbformat_minor": 0,
  "metadata": {
    "colab": {
      "name": "RS_colloborative_filtering_model_based.ipynb",
      "provenance": [],
      "authorship_tag": "ABX9TyP5UVlwhYoQ8YtlkPoLjxus",
      "include_colab_link": true
    },
    "kernelspec": {
      "name": "python3",
      "display_name": "Python 3"
    }
  },
  "cells": [
    {
      "cell_type": "markdown",
      "metadata": {
        "id": "view-in-github",
        "colab_type": "text"
      },
      "source": [
        "<a href=\"https://colab.research.google.com/github/tanyaryabov/ML/blob/master/RS_colloborative_filtering_model_based.ipynb\" target=\"_parent\"><img src=\"https://colab.research.google.com/assets/colab-badge.svg\" alt=\"Open In Colab\"/></a>"
      ]
    },
    {
      "cell_type": "code",
      "metadata": {
        "colab": {
          "base_uri": "https://localhost:8080/"
        },
        "id": "cXfGpNsipce6",
        "outputId": "71de2bcd-182a-4355-d3ec-26f9df26f9f6"
      },
      "source": [
        "from google.colab import drive\n",
        "drive.mount('/content/drive')\n",
        "!ls /content/drive"
      ],
      "execution_count": null,
      "outputs": [
        {
          "output_type": "stream",
          "text": [
            "Mounted at /content/drive\n",
            "MyDrive  Shareddrives\n"
          ],
          "name": "stdout"
        }
      ]
    },
    {
      "cell_type": "code",
      "metadata": {
        "id": "bJf8AjhNTyag",
        "colab": {
          "base_uri": "https://localhost:8080/"
        },
        "outputId": "2ba3db2c-a8ba-415c-f549-b42739c2b787"
      },
      "source": [
        "#!pip install surprise\n",
        "from surprise import SVD\n",
        "from surprise import Dataset, Reader\n",
        "from surprise import accuracy\n",
        "from surprise.model_selection import train_test_split\n",
        "data = Dataset.load_builtin('ml-100k')"
      ],
      "execution_count": null,
      "outputs": [
        {
          "output_type": "stream",
          "text": [
            "Collecting surprise\n",
            "  Downloading https://files.pythonhosted.org/packages/61/de/e5cba8682201fcf9c3719a6fdda95693468ed061945493dea2dd37c5618b/surprise-0.1-py2.py3-none-any.whl\n",
            "Collecting scikit-surprise\n",
            "\u001b[?25l  Downloading https://files.pythonhosted.org/packages/97/37/5d334adaf5ddd65da99fc65f6507e0e4599d092ba048f4302fe8775619e8/scikit-surprise-1.1.1.tar.gz (11.8MB)\n",
            "\u001b[K     |████████████████████████████████| 11.8MB 297kB/s \n",
            "\u001b[?25hRequirement already satisfied: joblib>=0.11 in /usr/local/lib/python3.7/dist-packages (from scikit-surprise->surprise) (1.0.1)\n",
            "Requirement already satisfied: numpy>=1.11.2 in /usr/local/lib/python3.7/dist-packages (from scikit-surprise->surprise) (1.19.5)\n",
            "Requirement already satisfied: scipy>=1.0.0 in /usr/local/lib/python3.7/dist-packages (from scikit-surprise->surprise) (1.4.1)\n",
            "Requirement already satisfied: six>=1.10.0 in /usr/local/lib/python3.7/dist-packages (from scikit-surprise->surprise) (1.15.0)\n",
            "Building wheels for collected packages: scikit-surprise\n",
            "  Building wheel for scikit-surprise (setup.py) ... \u001b[?25l\u001b[?25hdone\n",
            "  Created wheel for scikit-surprise: filename=scikit_surprise-1.1.1-cp37-cp37m-linux_x86_64.whl size=1617544 sha256=bccd5a4dd3351b8c0a77657055a3d793d4ba3b5070809c27a3f27b85f07f19ae\n",
            "  Stored in directory: /root/.cache/pip/wheels/78/9c/3d/41b419c9d2aff5b6e2b4c0fc8d25c538202834058f9ed110d0\n",
            "Successfully built scikit-surprise\n",
            "Installing collected packages: scikit-surprise, surprise\n",
            "Successfully installed scikit-surprise-1.1.1 surprise-0.1\n",
            "Dataset ml-100k could not be found. Do you want to download it? [Y/n] y\n",
            "Trying to download dataset from http://files.grouplens.org/datasets/movielens/ml-100k.zip...\n",
            "Done! Dataset ml-100k has been saved to /root/.surprise_data/ml-100k\n"
          ],
          "name": "stdout"
        }
      ]
    },
    {
      "cell_type": "code",
      "metadata": {
        "id": "ew6rWZKfAQ6m"
      },
      "source": [
        "#Dividing the data in test and validation\n",
        "trainset,testset= train_test_split(data, test_size=.20)"
      ],
      "execution_count": null,
      "outputs": []
    },
    {
      "cell_type": "markdown",
      "metadata": {
        "id": "w6BSVaPX6-vz"
      },
      "source": [
        "SVD- Singular Value Decomposition unsupervised ML algorithm. SVD constructs a matrix with the row of users and columns of items and the elements are given by the users’ ratings. SVD decomposes a matrix into three other matrices and extracts the factors from the factorization of a high-level (user-item-rating) matrix.\n",
        "Matrix U: singular matrix of (user*latent factors)\n",
        "Matrix S: diagonal matrix (shows the strength of each latent factor)\n",
        "Matrix U: singular matrix of (item*latent factors)"
      ]
    },
    {
      "cell_type": "code",
      "metadata": {
        "colab": {
          "base_uri": "https://localhost:8080/"
        },
        "id": "EIs82E1AXykA",
        "outputId": "e6dfb549-33e7-4ae3-afce-5e27af3ebb07"
      },
      "source": [
        "#Initializinf SVD\n",
        "#n_factors- The number of factors. Default is 100\n",
        "#n_epochs- The number of iteration of the SGD procedure. Default is 20\n",
        "#lr_all – The learning rate for all parameters. Default is 0.005\n",
        "model= SVD(n_factors= 300, n_epochs=30, lr_all=0.01,)\n",
        "#Fitting the model\n",
        "\n",
        "from surprise.model_selection import cross_validate\n",
        "cross_validate(model, data, measures=['RMSE'], cv=5, verbose=True)\n"
      ],
      "execution_count": null,
      "outputs": [
        {
          "output_type": "stream",
          "text": [
            "Evaluating RMSE of algorithm SVD on 5 split(s).\n",
            "\n",
            "                  Fold 1  Fold 2  Fold 3  Fold 4  Fold 5  Mean    Std     \n",
            "RMSE (testset)    0.9414  0.9555  0.9462  0.9490  0.9390  0.9462  0.0058  \n",
            "Fit time          19.50   19.42   19.37   19.50   19.44   19.45   0.05    \n",
            "Test time         0.17    0.18    0.24    0.18    0.20    0.19    0.03    \n"
          ],
          "name": "stdout"
        },
        {
          "output_type": "execute_result",
          "data": {
            "text/plain": [
              "{'fit_time': (19.498005390167236,\n",
              "  19.422816276550293,\n",
              "  19.37059473991394,\n",
              "  19.50146222114563,\n",
              "  19.442075729370117),\n",
              " 'test_rmse': array([0.94136544, 0.95548972, 0.94623723, 0.94900329, 0.93897723]),\n",
              " 'test_time': (0.17139768600463867,\n",
              "  0.17644715309143066,\n",
              "  0.24315404891967773,\n",
              "  0.1773083209991455,\n",
              "  0.19768953323364258)}"
            ]
          },
          "metadata": {
            "tags": []
          },
          "execution_count": 4
        }
      ]
    },
    {
      "cell_type": "markdown",
      "metadata": {
        "id": "Eqs1QNt6kLVZ"
      },
      "source": [
        "The MAE is a linear score which means that all the individual differences are weighted equally in the average. The RMSE is a quadratic scoring rule which measures the average magnitude of the error. ... Since the errors are squared before they are averaged, the RMSE gives a relatively high weight to large errors"
      ]
    },
    {
      "cell_type": "code",
      "metadata": {
        "colab": {
          "base_uri": "https://localhost:8080/"
        },
        "id": "FxXvL1XueGJd",
        "outputId": "d8da2f4b-1705-44cd-db77-b33c2f3babb5"
      },
      "source": [
        "from surprise.model_selection import LeaveOneOut\n",
        "# define a cross-validation iterator\n",
        "loo= LeaveOneOut(n_splits=5)\n",
        "model = SVD()\n",
        "\n",
        "for trainset, testset in loo.split(data):\n",
        "\n",
        "    # train and test algorithm.\n",
        "    model.fit(trainset)\n",
        "    predictions = model.test(testset)\n",
        "\n",
        "    # Compute and print Root Mean Squared Error\n",
        "    accuracy.rmse(predictions, verbose=True)"
      ],
      "execution_count": null,
      "outputs": [
        {
          "output_type": "stream",
          "text": [
            "RMSE: 0.9386\n",
            "RMSE: 0.9418\n",
            "RMSE: 0.9851\n",
            "RMSE: 0.9761\n",
            "RMSE: 0.9422\n"
          ],
          "name": "stdout"
        }
      ]
    },
    {
      "cell_type": "code",
      "metadata": {
        "colab": {
          "base_uri": "https://localhost:8080/"
        },
        "id": "_9Vj-2rlYGVO",
        "outputId": "44e499d6-1b8c-4c4a-8cae-36e94349a992"
      },
      "source": [
        "model.fit(trainset)\n",
        "#making predictions\n",
        "predictions= model.test(testset)\n",
        "#accuracy Root Mean Squared Error\n",
        "accuracy.rmse(predictions)"
      ],
      "execution_count": null,
      "outputs": [
        {
          "output_type": "stream",
          "text": [
            "RMSE: 0.9484\n"
          ],
          "name": "stdout"
        },
        {
          "output_type": "execute_result",
          "data": {
            "text/plain": [
              "0.9484022867956294"
            ]
          },
          "metadata": {
            "tags": []
          },
          "execution_count": 5
        }
      ]
    },
    {
      "cell_type": "code",
      "metadata": {
        "id": "TItPcbvjYpgU"
      },
      "source": [
        "#prediction rating for a user and movie\n",
        "\n",
        "uid= str(880)\n",
        "iid= str(476)\n",
        "#get a prediction for specific users and items:\n",
        "pred= model.predict(uid, iid)"
      ],
      "execution_count": null,
      "outputs": []
    },
    {
      "cell_type": "code",
      "metadata": {
        "colab": {
          "base_uri": "https://localhost:8080/"
        },
        "id": "NuzN60M1ZLSL",
        "outputId": "bcd63501-b5e8-4016-d693-9d82040294d4"
      },
      "source": [
        "#View predicting rating\n",
        "pred.est"
      ],
      "execution_count": null,
      "outputs": [
        {
          "output_type": "execute_result",
          "data": {
            "text/plain": [
              "2.9616042136372123"
            ]
          },
          "metadata": {
            "tags": []
          },
          "execution_count": 8
        }
      ]
    }
  ]
}