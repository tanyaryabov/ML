{
  "nbformat": 4,
  "nbformat_minor": 0,
  "metadata": {
    "colab": {
      "name": "Recommendation_system_most_rated_movies.ipynb",
      "provenance": [],
      "authorship_tag": "ABX9TyPsRnC4eiJRBUyvVtnzOErD",
      "include_colab_link": true
    },
    "kernelspec": {
      "name": "python3",
      "display_name": "Python 3"
    }
  },
  "cells": [
    {
      "cell_type": "markdown",
      "metadata": {
        "id": "view-in-github",
        "colab_type": "text"
      },
      "source": [
        "<a href=\"https://colab.research.google.com/github/tanyaryabov/ML/blob/master/Recommendation_system_most_rated_movies.ipynb\" target=\"_parent\"><img src=\"https://colab.research.google.com/assets/colab-badge.svg\" alt=\"Open In Colab\"/></a>"
      ]
    },
    {
      "cell_type": "code",
      "metadata": {
        "colab": {
          "base_uri": "https://localhost:8080/"
        },
        "id": "SHgpxwK2E3Dk",
        "outputId": "b638446b-6a13-4fb9-93ff-90bdce6471fd"
      },
      "source": [
        "from google.colab import drive\r\n",
        "drive.mount('/content/drive')\r\n",
        "!ls /content/drive"
      ],
      "execution_count": 3,
      "outputs": [
        {
          "output_type": "stream",
          "text": [
            "Drive already mounted at /content/drive; to attempt to forcibly remount, call drive.mount(\"/content/drive\", force_remount=True).\n",
            "MyDrive  Shareddrives\n"
          ],
          "name": "stdout"
        }
      ]
    },
    {
      "cell_type": "code",
      "metadata": {
        "id": "Vkk8cwLyFXVm"
      },
      "source": [
        "import pandas as pd\r\n",
        "import os, io\r\n",
        "import numpy as np\r\n",
        "from pandas import Series, DataFrame, read_table\r\n",
        "import matplotlib.pyplot as plt\r\n",
        "import seaborn as sns\r\n",
        "from sklearn.metrics import mean_squared_error"
      ],
      "execution_count": 4,
      "outputs": []
    },
    {
      "cell_type": "code",
      "metadata": {
        "colab": {
          "base_uri": "https://localhost:8080/",
          "height": 199
        },
        "id": "HPL4or7QXce7",
        "outputId": "5ac56b74-4c22-41af-d5bd-dd0811d03c0f"
      },
      "source": [
        "ratings = pd.read_csv('/content/drive/MyDrive/ratings.csv', usecols=['userId','movieId','rating'],dtype={'userId':'int32','movieId':'int32','rating':'float32'})\r\n",
        "movies = pd.read_csv('/content/drive/MyDrive/movies.csv', usecols=['movieId','title'], dtype={'movieId':'int32','title':'str'})\r\n",
        "df = pd.merge(ratings, movies, on='movieId')\r\n",
        "df.head()"
      ],
      "execution_count": 11,
      "outputs": [
        {
          "output_type": "execute_result",
          "data": {
            "text/html": [
              "<div>\n",
              "<style scoped>\n",
              "    .dataframe tbody tr th:only-of-type {\n",
              "        vertical-align: middle;\n",
              "    }\n",
              "\n",
              "    .dataframe tbody tr th {\n",
              "        vertical-align: top;\n",
              "    }\n",
              "\n",
              "    .dataframe thead th {\n",
              "        text-align: right;\n",
              "    }\n",
              "</style>\n",
              "<table border=\"1\" class=\"dataframe\">\n",
              "  <thead>\n",
              "    <tr style=\"text-align: right;\">\n",
              "      <th></th>\n",
              "      <th>userId</th>\n",
              "      <th>movieId</th>\n",
              "      <th>rating</th>\n",
              "      <th>title</th>\n",
              "    </tr>\n",
              "  </thead>\n",
              "  <tbody>\n",
              "    <tr>\n",
              "      <th>0</th>\n",
              "      <td>1</td>\n",
              "      <td>1</td>\n",
              "      <td>4.0</td>\n",
              "      <td>Toy Story (1995)</td>\n",
              "    </tr>\n",
              "    <tr>\n",
              "      <th>1</th>\n",
              "      <td>5</td>\n",
              "      <td>1</td>\n",
              "      <td>4.0</td>\n",
              "      <td>Toy Story (1995)</td>\n",
              "    </tr>\n",
              "    <tr>\n",
              "      <th>2</th>\n",
              "      <td>7</td>\n",
              "      <td>1</td>\n",
              "      <td>4.5</td>\n",
              "      <td>Toy Story (1995)</td>\n",
              "    </tr>\n",
              "    <tr>\n",
              "      <th>3</th>\n",
              "      <td>15</td>\n",
              "      <td>1</td>\n",
              "      <td>2.5</td>\n",
              "      <td>Toy Story (1995)</td>\n",
              "    </tr>\n",
              "    <tr>\n",
              "      <th>4</th>\n",
              "      <td>17</td>\n",
              "      <td>1</td>\n",
              "      <td>4.5</td>\n",
              "      <td>Toy Story (1995)</td>\n",
              "    </tr>\n",
              "  </tbody>\n",
              "</table>\n",
              "</div>"
            ],
            "text/plain": [
              "   userId  movieId  rating             title\n",
              "0       1        1     4.0  Toy Story (1995)\n",
              "1       5        1     4.0  Toy Story (1995)\n",
              "2       7        1     4.5  Toy Story (1995)\n",
              "3      15        1     2.5  Toy Story (1995)\n",
              "4      17        1     4.5  Toy Story (1995)"
            ]
          },
          "metadata": {
            "tags": []
          },
          "execution_count": 11
        }
      ]
    },
    {
      "cell_type": "markdown",
      "metadata": {
        "id": "b20RQzp0awb6"
      },
      "source": [
        "\r\n",
        "*   Find the unique users \r\n",
        "*   Count the number of tmes the movie has been seen\r\n",
        "*   Rank the counts\r\n"
      ]
    },
    {
      "cell_type": "code",
      "metadata": {
        "colab": {
          "base_uri": "https://localhost:8080/",
          "height": 351
        },
        "id": "nn2glrWgdups",
        "outputId": "2ebcc8f6-1f38-4c5a-c3c7-0845e9d58ffb"
      },
      "source": [
        "output_data= df.groupby(['title'])['userId'].count().reset_index() #counting how many users watched specific movie\r\n",
        "output_data.rename(columns={'userId': 'score'}, inplace=True)\r\n",
        "output_data_sort= output_data.sort_values(['score', 'title'], ascending= [0,1])\r\n",
        "output_data_sort['Rank']= output_data_sort['score'].rank(ascending=0, method= 'first')\r\n",
        "popular_rec= output_data_sort.head(10)\r\n",
        "popular_rec"
      ],
      "execution_count": 22,
      "outputs": [
        {
          "output_type": "execute_result",
          "data": {
            "text/html": [
              "<div>\n",
              "<style scoped>\n",
              "    .dataframe tbody tr th:only-of-type {\n",
              "        vertical-align: middle;\n",
              "    }\n",
              "\n",
              "    .dataframe tbody tr th {\n",
              "        vertical-align: top;\n",
              "    }\n",
              "\n",
              "    .dataframe thead th {\n",
              "        text-align: right;\n",
              "    }\n",
              "</style>\n",
              "<table border=\"1\" class=\"dataframe\">\n",
              "  <thead>\n",
              "    <tr style=\"text-align: right;\">\n",
              "      <th></th>\n",
              "      <th>title</th>\n",
              "      <th>score</th>\n",
              "      <th>Rank</th>\n",
              "    </tr>\n",
              "  </thead>\n",
              "  <tbody>\n",
              "    <tr>\n",
              "      <th>3158</th>\n",
              "      <td>Forrest Gump (1994)</td>\n",
              "      <td>329</td>\n",
              "      <td>1.0</td>\n",
              "    </tr>\n",
              "    <tr>\n",
              "      <th>7593</th>\n",
              "      <td>Shawshank Redemption, The (1994)</td>\n",
              "      <td>317</td>\n",
              "      <td>2.0</td>\n",
              "    </tr>\n",
              "    <tr>\n",
              "      <th>6865</th>\n",
              "      <td>Pulp Fiction (1994)</td>\n",
              "      <td>307</td>\n",
              "      <td>3.0</td>\n",
              "    </tr>\n",
              "    <tr>\n",
              "      <th>7680</th>\n",
              "      <td>Silence of the Lambs, The (1991)</td>\n",
              "      <td>279</td>\n",
              "      <td>4.0</td>\n",
              "    </tr>\n",
              "    <tr>\n",
              "      <th>5512</th>\n",
              "      <td>Matrix, The (1999)</td>\n",
              "      <td>278</td>\n",
              "      <td>5.0</td>\n",
              "    </tr>\n",
              "    <tr>\n",
              "      <th>8001</th>\n",
              "      <td>Star Wars: Episode IV - A New Hope (1977)</td>\n",
              "      <td>251</td>\n",
              "      <td>6.0</td>\n",
              "    </tr>\n",
              "    <tr>\n",
              "      <th>4662</th>\n",
              "      <td>Jurassic Park (1993)</td>\n",
              "      <td>238</td>\n",
              "      <td>7.0</td>\n",
              "    </tr>\n",
              "    <tr>\n",
              "      <th>1337</th>\n",
              "      <td>Braveheart (1995)</td>\n",
              "      <td>237</td>\n",
              "      <td>8.0</td>\n",
              "    </tr>\n",
              "    <tr>\n",
              "      <th>8363</th>\n",
              "      <td>Terminator 2: Judgment Day (1991)</td>\n",
              "      <td>224</td>\n",
              "      <td>9.0</td>\n",
              "    </tr>\n",
              "    <tr>\n",
              "      <th>7421</th>\n",
              "      <td>Schindler's List (1993)</td>\n",
              "      <td>220</td>\n",
              "      <td>10.0</td>\n",
              "    </tr>\n",
              "  </tbody>\n",
              "</table>\n",
              "</div>"
            ],
            "text/plain": [
              "                                          title  score  Rank\n",
              "3158                        Forrest Gump (1994)    329   1.0\n",
              "7593           Shawshank Redemption, The (1994)    317   2.0\n",
              "6865                        Pulp Fiction (1994)    307   3.0\n",
              "7680           Silence of the Lambs, The (1991)    279   4.0\n",
              "5512                         Matrix, The (1999)    278   5.0\n",
              "8001  Star Wars: Episode IV - A New Hope (1977)    251   6.0\n",
              "4662                       Jurassic Park (1993)    238   7.0\n",
              "1337                          Braveheart (1995)    237   8.0\n",
              "8363          Terminator 2: Judgment Day (1991)    224   9.0\n",
              "7421                    Schindler's List (1993)    220  10.0"
            ]
          },
          "metadata": {
            "tags": []
          },
          "execution_count": 22
        }
      ]
    }
  ]
}