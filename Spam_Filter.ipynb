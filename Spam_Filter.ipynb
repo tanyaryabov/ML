{
  "nbformat": 4,
  "nbformat_minor": 0,
  "metadata": {
    "colab": {
      "name": "Spam_Filter.ipynb",
      "provenance": [],
      "authorship_tag": "ABX9TyMsVUiHB4+O4lN0+48i7qUI",
      "include_colab_link": true
    },
    "kernelspec": {
      "name": "python3",
      "display_name": "Python 3"
    }
  },
  "cells": [
    {
      "cell_type": "markdown",
      "metadata": {
        "id": "view-in-github",
        "colab_type": "text"
      },
      "source": [
        "<a href=\"https://colab.research.google.com/github/tanyaryabov/ML/blob/master/Spam_Filter.ipynb\" target=\"_parent\"><img src=\"https://colab.research.google.com/assets/colab-badge.svg\" alt=\"Open In Colab\"/></a>"
      ]
    },
    {
      "cell_type": "code",
      "metadata": {
        "id": "GMHOI21w8_SN",
        "colab": {
          "base_uri": "https://localhost:8080/"
        },
        "outputId": "06cc54e2-f635-476b-c20d-c3fbaa7a50e8"
      },
      "source": [
        "from google.colab import drive\r\n",
        "drive.mount('/content/drive')\r\n",
        "!ls /content/drive"
      ],
      "execution_count": 2,
      "outputs": [
        {
          "output_type": "stream",
          "text": [
            "Mounted at /content/drive\n",
            "MyDrive  Shareddrives\n"
          ],
          "name": "stdout"
        }
      ]
    },
    {
      "cell_type": "code",
      "metadata": {
        "id": "zpTCUjmI8idG"
      },
      "source": [
        "import pandas as pd\r\n",
        "from sklearn.naive_bayes import MultinomialNB\r\n",
        "from sklearn.model_selection import train_test_split\r\n",
        "from sklearn.feature_extraction.text import CountVectorizer"
      ],
      "execution_count": 3,
      "outputs": []
    },
    {
      "cell_type": "code",
      "metadata": {
        "id": "nBMpf-uT8ol4"
      },
      "source": [
        "test=pd.read_csv('/content/drive/MyDrive/Youtube01-Psy.csv')\r\n",
        "train1 = pd.read_csv('/content/drive/MyDrive/Youtube05-Shakira.csv')\r\n",
        "train2= pd.read_csv('/content/drive/MyDrive/Youtube02-KatyPerry.csv')\r\n",
        "train3= pd.read_csv('/content/drive/MyDrive/Youtube03-LMFAO.csv')\r\n",
        "train4= pd.read_csv('/content/drive/MyDrive/Youtube04-Eminem.csv')\r\n",
        "train= pd.concat([train1, train2, train3, train4])"
      ],
      "execution_count": 4,
      "outputs": []
    },
    {
      "cell_type": "code",
      "metadata": {
        "id": "vBqOW63K8squ",
        "colab": {
          "base_uri": "https://localhost:8080/"
        },
        "outputId": "ac26e3e5-2b53-4c0c-8687-5bab29f3b59d"
      },
      "source": [
        "X= train['CONTENT']\r\n",
        "y= train['CLASS']\r\n",
        "\r\n",
        "X_train,X_test,y_train,y_test = train_test_split(X,y,test_size=0.3)\r\n",
        "v= CountVectorizer()\r\n",
        "X_train_count = v.fit_transform(X_train.values)\r\n",
        "X_train_count.toarray()[:2]\r\n",
        "\r\n",
        "\r\n",
        "model = MultinomialNB()\r\n",
        "model.fit(X_train_count, y_train)\r\n",
        "\r\n",
        "comments= test['CONTENT']\r\n",
        "comments_count= v.transform(comments)\r\n",
        "y_pred= model.predict(comments_count)\r\n",
        "\r\n",
        "print(y_pred)\r\n",
        "X_test_count = v.transform(X_test)\r\n",
        "msc= model.score(X_test_count, y_test)\r\n",
        "\r\n",
        "print(msc)"
      ],
      "execution_count": 5,
      "outputs": [
        {
          "output_type": "stream",
          "text": [
            "[1 1 1 1 1 1 1 1 1 1 1 1 1 1 1 1 0 1 1 1 1 1 1 0 1 1 1 1 1 1 1 1 1 1 0 0 1\n",
            " 1 1 1 1 1 1 1 1 1 1 1 1 1 1 1 1 1 1 1 1 1 1 1 1 1 0 0 1 0 1 0 0 1 1 1 1 1\n",
            " 1 1 1 1 1 1 1 1 1 1 1 0 1 0 1 0 1 1 1 1 0 1 1 1 1 1 1 0 1 0 1 1 1 1 0 0 1\n",
            " 1 0 1 1 1 0 0 0 0 0 0 1 0 1 0 0 0 1 1 0 1 0 0 1 0 1 1 1 0 1 1 1 1 1 0 1 1\n",
            " 1 1 0 1 1 1 1 1 1 1 1 1 1 1 1 1 0 0 1 1 1 0 1 1 1 1 1 1 1 1 1 1 0 1 0 0 0\n",
            " 0 1 1 1 1 1 0 1 0 1 0 0 0 0 1 1 1 1 0 0 0 0 0 1 0 1 1 0 1 0 1 0 0 1 0 1 1\n",
            " 0 1 0 1 0 0 0 1 0 1 0 0 0 1 0 0 0 0 0 0 0 1 0 0 0 1 0 0 1 0 0 1 1 0 1 0 0\n",
            " 1 1 1 0 0 1 0 0 0 1 1 1 1 0 1 0 0 0 1 0 0 1 1 0 0 0 0 0 1 1 1 0 0 1 1 1 0\n",
            " 1 1 1 0 1 1 1 1 0 1 1 1 1 1 0 1 0 1 0 1 1 1 1 1 0 0 0 1 0 1 0 1 0 1 1 1 0\n",
            " 1 1 1 0 1 1 1 1 1 0 0 0 0 1 1 1 0]\n",
            "0.9087136929460581\n"
          ],
          "name": "stdout"
        }
      ]
    },
    {
      "cell_type": "code",
      "metadata": {
        "id": "0EpUhA8Z89Z0"
      },
      "source": [
        ""
      ],
      "execution_count": null,
      "outputs": []
    }
  ]
}