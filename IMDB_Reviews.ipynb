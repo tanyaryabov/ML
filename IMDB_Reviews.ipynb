{
  "nbformat": 4,
  "nbformat_minor": 0,
  "metadata": {
    "colab": {
      "name": "Untitled2.ipynb",
      "provenance": [],
      "authorship_tag": "ABX9TyPxvESoM1501IYkg7IZAByM",
      "include_colab_link": true
    },
    "kernelspec": {
      "name": "python3",
      "display_name": "Python 3"
    }
  },
  "cells": [
    {
      "cell_type": "markdown",
      "metadata": {
        "id": "view-in-github",
        "colab_type": "text"
      },
      "source": [
        "<a href=\"https://colab.research.google.com/github/tanyaryabov/ML/blob/master/IMDB_Reviews.ipynb\" target=\"_parent\"><img src=\"https://colab.research.google.com/assets/colab-badge.svg\" alt=\"Open In Colab\"/></a>"
      ]
    },
    {
      "cell_type": "code",
      "metadata": {
        "id": "VtUxos_CKG90"
      },
      "source": [
        "import tensorflow as tf\r\n",
        "import tensorflow_datasets as tfds\r\n",
        "import tensorflow_hub as hub"
      ],
      "execution_count": null,
      "outputs": []
    },
    {
      "cell_type": "code",
      "metadata": {
        "id": "Ww6cRLoPPpDy"
      },
      "source": [
        "tfds.list_builders()"
      ],
      "execution_count": null,
      "outputs": []
    },
    {
      "cell_type": "code",
      "metadata": {
        "colab": {
          "base_uri": "https://localhost:8080/"
        },
        "id": "Q07gSiL1P6Ow",
        "outputId": "c7039555-3705-4fac-cd2e-0fa38f1ce6d2"
      },
      "source": [
        "train_data, validation_data, test_data = tfds.load(name='imdb_reviews', split=('train[:60%]', 'train[60%:]', 'test'), as_supervised=True)\r\n",
        "\r\n",
        "train_example_batch, train_labels_batch= next(iter(train_data.batch(10)))\r\n",
        "train_labels_batch\r\n"
      ],
      "execution_count": null,
      "outputs": [
        {
          "output_type": "execute_result",
          "data": {
            "text/plain": [
              "<tf.Tensor: shape=(10,), dtype=int64, numpy=array([0, 0, 0, 1, 1, 1, 0, 0, 0, 0])>"
            ]
          },
          "metadata": {
            "tags": []
          },
          "execution_count": 19
        }
      ]
    },
    {
      "cell_type": "code",
      "metadata": {
        "id": "wtjbT_7iWbLo"
      },
      "source": [
        "pretrained_model = \"https://tfhub.dev/google/tf2-preview/gnews-swivel-20dim/1\"\r\n",
        "hub_layer = hub.KerasLayer(pretrained_model, input_shape=[], dtype=tf.string, trainable=True)"
      ],
      "execution_count": null,
      "outputs": []
    },
    {
      "cell_type": "code",
      "metadata": {
        "colab": {
          "base_uri": "https://localhost:8080/"
        },
        "id": "nL10XjY0W3cQ",
        "outputId": "05608cf0-6212-41a0-9914-9318e849f758"
      },
      "source": [
        "hub_layer(train_example_batch[:2])"
      ],
      "execution_count": null,
      "outputs": [
        {
          "output_type": "execute_result",
          "data": {
            "text/plain": [
              "<tf.Tensor: shape=(2, 20), dtype=float32, numpy=\n",
              "array([[ 1.765786  , -3.882232  ,  3.9134233 , -1.5557289 , -3.3362343 ,\n",
              "        -1.7357955 , -1.9954445 ,  1.2989551 ,  5.081598  , -1.1041286 ,\n",
              "        -2.0503852 , -0.72675157, -0.65675956,  0.24436149, -3.7208383 ,\n",
              "         2.0954835 ,  2.2969332 , -2.0689783 , -2.9489717 , -1.1315987 ],\n",
              "       [ 1.8804485 , -2.5852382 ,  3.4066997 ,  1.0982676 , -4.056685  ,\n",
              "        -4.891284  , -2.785554  ,  1.3874227 ,  3.8476458 , -0.9256538 ,\n",
              "        -1.896706  ,  1.2113281 ,  0.11474707,  0.76209456, -4.8791065 ,\n",
              "         2.906149  ,  4.7087674 , -2.3652055 , -3.5015898 , -1.6390051 ]],\n",
              "      dtype=float32)>"
            ]
          },
          "metadata": {
            "tags": []
          },
          "execution_count": 21
        }
      ]
    },
    {
      "cell_type": "code",
      "metadata": {
        "colab": {
          "base_uri": "https://localhost:8080/"
        },
        "id": "NlZwb4mKXT9O",
        "outputId": "9bc1f3fb-41c3-42ef-fc7d-48ffea6349d3"
      },
      "source": [
        "model = tf.keras.Sequential()\r\n",
        "model.add(hub_layer)\r\n",
        "model.add(tf.keras.layers.Dense(16,activation=\"relu\"))\r\n",
        "model.add(tf.keras.layers.Dense(1,activation=\"sigmoid\"))\r\n",
        "model.summary()"
      ],
      "execution_count": null,
      "outputs": [
        {
          "output_type": "stream",
          "text": [
            "Model: \"sequential\"\n",
            "_________________________________________________________________\n",
            "Layer (type)                 Output Shape              Param #   \n",
            "=================================================================\n",
            "keras_layer (KerasLayer)     (None, 20)                400020    \n",
            "_________________________________________________________________\n",
            "dense (Dense)                (None, 16)                336       \n",
            "_________________________________________________________________\n",
            "dense_1 (Dense)              (None, 1)                 17        \n",
            "=================================================================\n",
            "Total params: 400,373\n",
            "Trainable params: 400,373\n",
            "Non-trainable params: 0\n",
            "_________________________________________________________________\n"
          ],
          "name": "stdout"
        }
      ]
    },
    {
      "cell_type": "code",
      "metadata": {
        "id": "pl-BLTDHYfoF"
      },
      "source": [
        "model.compile(optimizer='adam',\r\n",
        "              loss='binary_crossentropy',\r\n",
        "              metrics=['accuracy'])"
      ],
      "execution_count": null,
      "outputs": []
    },
    {
      "cell_type": "code",
      "metadata": {
        "colab": {
          "base_uri": "https://localhost:8080/"
        },
        "id": "sdaF8ISAYnG_",
        "outputId": "4d515d9b-44af-4c34-a262-3dd22a762003"
      },
      "source": [
        "model.fit(train_data.shuffle(10000).batch(512),\r\n",
        "         epochs=20,\r\n",
        "         validation_data=validation_data.batch(512),\r\n",
        "         verbose=1)"
      ],
      "execution_count": null,
      "outputs": [
        {
          "output_type": "stream",
          "text": [
            "Epoch 1/20\n",
            "30/30 [==============================] - 4s 97ms/step - loss: 2.1499 - accuracy: 0.4993 - val_loss: 0.7991 - val_accuracy: 0.5085\n",
            "Epoch 2/20\n",
            "30/30 [==============================] - 3s 91ms/step - loss: 0.7806 - accuracy: 0.5228 - val_loss: 0.6803 - val_accuracy: 0.5847\n",
            "Epoch 3/20\n",
            "30/30 [==============================] - 3s 91ms/step - loss: 0.6502 - accuracy: 0.6191 - val_loss: 0.6073 - val_accuracy: 0.6701\n",
            "Epoch 4/20\n",
            "30/30 [==============================] - 3s 90ms/step - loss: 0.5880 - accuracy: 0.6894 - val_loss: 0.5697 - val_accuracy: 0.7069\n",
            "Epoch 5/20\n",
            "30/30 [==============================] - 3s 90ms/step - loss: 0.5544 - accuracy: 0.7174 - val_loss: 0.5398 - val_accuracy: 0.7371\n",
            "Epoch 6/20\n",
            "30/30 [==============================] - 3s 92ms/step - loss: 0.5128 - accuracy: 0.7576 - val_loss: 0.5125 - val_accuracy: 0.7570\n",
            "Epoch 7/20\n",
            "30/30 [==============================] - 3s 93ms/step - loss: 0.4856 - accuracy: 0.7834 - val_loss: 0.4868 - val_accuracy: 0.7766\n",
            "Epoch 8/20\n",
            "30/30 [==============================] - 3s 92ms/step - loss: 0.4600 - accuracy: 0.7973 - val_loss: 0.4622 - val_accuracy: 0.7937\n",
            "Epoch 9/20\n",
            "30/30 [==============================] - 3s 90ms/step - loss: 0.4259 - accuracy: 0.8201 - val_loss: 0.4384 - val_accuracy: 0.8101\n",
            "Epoch 10/20\n",
            "30/30 [==============================] - 3s 94ms/step - loss: 0.3972 - accuracy: 0.8387 - val_loss: 0.4165 - val_accuracy: 0.8236\n",
            "Epoch 11/20\n",
            "30/30 [==============================] - 3s 90ms/step - loss: 0.3682 - accuracy: 0.8567 - val_loss: 0.3964 - val_accuracy: 0.8331\n",
            "Epoch 12/20\n",
            "30/30 [==============================] - 3s 92ms/step - loss: 0.3412 - accuracy: 0.8690 - val_loss: 0.3785 - val_accuracy: 0.8429\n",
            "Epoch 13/20\n",
            "30/30 [==============================] - 3s 92ms/step - loss: 0.3178 - accuracy: 0.8775 - val_loss: 0.3630 - val_accuracy: 0.8507\n",
            "Epoch 14/20\n",
            "30/30 [==============================] - 3s 95ms/step - loss: 0.2959 - accuracy: 0.8909 - val_loss: 0.3498 - val_accuracy: 0.8563\n",
            "Epoch 15/20\n",
            "30/30 [==============================] - 3s 95ms/step - loss: 0.2790 - accuracy: 0.8958 - val_loss: 0.3402 - val_accuracy: 0.8603\n",
            "Epoch 16/20\n",
            "30/30 [==============================] - 3s 97ms/step - loss: 0.2585 - accuracy: 0.9071 - val_loss: 0.3325 - val_accuracy: 0.8620\n",
            "Epoch 17/20\n",
            "30/30 [==============================] - 3s 96ms/step - loss: 0.2454 - accuracy: 0.9132 - val_loss: 0.3221 - val_accuracy: 0.8671\n",
            "Epoch 18/20\n",
            "30/30 [==============================] - 3s 93ms/step - loss: 0.2262 - accuracy: 0.9202 - val_loss: 0.3169 - val_accuracy: 0.8669\n",
            "Epoch 19/20\n",
            "30/30 [==============================] - 3s 93ms/step - loss: 0.2158 - accuracy: 0.9235 - val_loss: 0.3119 - val_accuracy: 0.8694\n",
            "Epoch 20/20\n",
            "30/30 [==============================] - 3s 93ms/step - loss: 0.2029 - accuracy: 0.9311 - val_loss: 0.3094 - val_accuracy: 0.8708\n"
          ],
          "name": "stdout"
        },
        {
          "output_type": "execute_result",
          "data": {
            "text/plain": [
              "<tensorflow.python.keras.callbacks.History at 0x7ff306e7e9e8>"
            ]
          },
          "metadata": {
            "tags": []
          },
          "execution_count": 25
        }
      ]
    },
    {
      "cell_type": "code",
      "metadata": {
        "colab": {
          "base_uri": "https://localhost:8080/"
        },
        "id": "fdaagtiwZIXS",
        "outputId": "b093b842-7c78-48f3-c8f6-fe3ff3e8ab5c"
      },
      "source": [
        "model.predict([\"This is the worst movie I have ever seen\",\r\n",
        "              \"An excellent movie that I enjoyed a lot\",\r\n",
        "              \"how can one make such a horrible movie? there is no story, acting direction everything is very poor\"])"
      ],
      "execution_count": null,
      "outputs": [
        {
          "output_type": "execute_result",
          "data": {
            "text/plain": [
              "array([[0.1761826 ],\n",
              "       [0.9958751 ],\n",
              "       [0.05734587]], dtype=float32)"
            ]
          },
          "metadata": {
            "tags": []
          },
          "execution_count": 26
        }
      ]
    }
  ]
}